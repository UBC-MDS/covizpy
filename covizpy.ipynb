{
 "cells": [
  {
   "cell_type": "code",
   "execution_count": 1,
   "id": "89ac6871-0ba4-4d3c-a5b4-3abaafde8c6a",
   "metadata": {},
   "outputs": [],
   "source": [
    "import pandas as pd\n",
    "from datetime import datetime, timedelta"
   ]
  },
  {
   "cell_type": "code",
   "execution_count": 2,
   "id": "b49b503a-89e1-4609-8972-57d5c6c3941b",
   "metadata": {},
   "outputs": [],
   "source": [
    "from covizpy.get_data import get_data\n",
    "from covizpy.plot_summary import plot_summary\n",
    "from covizpy.plot_metric import plot_metric\n",
    "from covizpy.plot_spec import plot_spec"
   ]
  },
  {
   "cell_type": "code",
   "execution_count": 3,
   "id": "615a8b34-6711-4dba-973a-967e268ae017",
   "metadata": {},
   "outputs": [],
   "source": [
    "df = get_data()"
   ]
  },
  {
   "cell_type": "code",
   "execution_count": 4,
   "id": "3f1d0416-e984-4f85-9674-60ba74ce1b51",
   "metadata": {},
   "outputs": [],
   "source": [
    "plot_spec(df)"
   ]
  },
  {
   "cell_type": "code",
   "execution_count": 6,
   "id": "e3431243-f36c-42b2-8de9-ac33aa790f42",
   "metadata": {},
   "outputs": [
    {
     "data": {
      "text/html": [
       "\n",
       "<div id=\"altair-viz-35bd612b16c74246b619e8eefbcb9d1b\"></div>\n",
       "<script type=\"text/javascript\">\n",
       "  var VEGA_DEBUG = (typeof VEGA_DEBUG == \"undefined\") ? {} : VEGA_DEBUG;\n",
       "  (function(spec, embedOpt){\n",
       "    let outputDiv = document.currentScript.previousElementSibling;\n",
       "    if (outputDiv.id !== \"altair-viz-35bd612b16c74246b619e8eefbcb9d1b\") {\n",
       "      outputDiv = document.getElementById(\"altair-viz-35bd612b16c74246b619e8eefbcb9d1b\");\n",
       "    }\n",
       "    const paths = {\n",
       "      \"vega\": \"https://cdn.jsdelivr.net/npm//vega@5?noext\",\n",
       "      \"vega-lib\": \"https://cdn.jsdelivr.net/npm//vega-lib?noext\",\n",
       "      \"vega-lite\": \"https://cdn.jsdelivr.net/npm//vega-lite@4.17.0?noext\",\n",
       "      \"vega-embed\": \"https://cdn.jsdelivr.net/npm//vega-embed@6?noext\",\n",
       "    };\n",
       "\n",
       "    function maybeLoadScript(lib, version) {\n",
       "      var key = `${lib.replace(\"-\", \"\")}_version`;\n",
       "      return (VEGA_DEBUG[key] == version) ?\n",
       "        Promise.resolve(paths[lib]) :\n",
       "        new Promise(function(resolve, reject) {\n",
       "          var s = document.createElement('script');\n",
       "          document.getElementsByTagName(\"head\")[0].appendChild(s);\n",
       "          s.async = true;\n",
       "          s.onload = () => {\n",
       "            VEGA_DEBUG[key] = version;\n",
       "            return resolve(paths[lib]);\n",
       "          };\n",
       "          s.onerror = () => reject(`Error loading script: ${paths[lib]}`);\n",
       "          s.src = paths[lib];\n",
       "        });\n",
       "    }\n",
       "\n",
       "    function showError(err) {\n",
       "      outputDiv.innerHTML = `<div class=\"error\" style=\"color:red;\">${err}</div>`;\n",
       "      throw err;\n",
       "    }\n",
       "\n",
       "    function displayChart(vegaEmbed) {\n",
       "      vegaEmbed(outputDiv, spec, embedOpt)\n",
       "        .catch(err => showError(`Javascript Error: ${err.message}<br>This usually means there's a typo in your chart specification. See the javascript console for the full traceback.`));\n",
       "    }\n",
       "\n",
       "    if(typeof define === \"function\" && define.amd) {\n",
       "      requirejs.config({paths});\n",
       "      require([\"vega-embed\"], displayChart, err => showError(`Error loading script: ${err.message}`));\n",
       "    } else {\n",
       "      maybeLoadScript(\"vega\", \"5\")\n",
       "        .then(() => maybeLoadScript(\"vega-lite\", \"4.17.0\"))\n",
       "        .then(() => maybeLoadScript(\"vega-embed\", \"6\"))\n",
       "        .catch(showError)\n",
       "        .then(() => displayChart(vegaEmbed));\n",
       "    }\n",
       "  })({\"config\": {\"view\": {\"continuousWidth\": 400, \"continuousHeight\": 300}}, \"data\": {\"name\": \"data-4f46f3ce1e13f2f061abc50af9f56cba\"}, \"mark\": \"bar\", \"encoding\": {\"x\": {\"field\": \"new_cases\", \"type\": \"quantitative\"}, \"y\": {\"field\": \"location\", \"sort\": \"x\", \"type\": \"nominal\"}}, \"$schema\": \"https://vega.github.io/schema/vega-lite/v4.17.0.json\", \"datasets\": {\"data-4f46f3ce1e13f2f061abc50af9f56cba\": [{\"location\": \"United States\", \"new_cases\": 5140221.0}, {\"location\": \"France\", \"new_cases\": 2433608.0}, {\"location\": \"India\", \"new_cases\": 2052769.0}, {\"location\": \"Italy\", \"new_cases\": 1247342.0}, {\"location\": \"Spain\", \"new_cases\": 882422.0}]}}, {\"mode\": \"vega-lite\"});\n",
       "</script>"
      ],
      "text/plain": [
       "alt.Chart(...)"
      ]
     },
     "execution_count": 6,
     "metadata": {},
     "output_type": "execute_result"
    }
   ],
   "source": [
    "plot_summary(df)"
   ]
  },
  {
   "cell_type": "code",
   "execution_count": 5,
   "id": "93f98bb5-42f7-4e1a-ba91-38187bd782c0",
   "metadata": {},
   "outputs": [
    {
     "data": {
      "text/plain": [
       "'The link to the data is broken'"
      ]
     },
     "execution_count": 5,
     "metadata": {},
     "output_type": "execute_result"
    }
   ],
   "source": [
    "plot_metric(df, date_from='2022-01-14', date_to='2022-01-21')"
   ]
  },
  {
   "cell_type": "code",
   "execution_count": null,
   "id": "fce32cc4-a469-4e3c-a9d6-4e12b5bca9a2",
   "metadata": {},
   "outputs": [],
   "source": [
    "def get_data(\n",
    "    date_from=None,\n",
    "    date_to=None,\n",
    "    location=None,\n",
    "):\n",
    "    \"\"\"Get covid data\n",
    "    Retrieve covid data in pandas dataframe format witg tge time periods provided\n",
    "    Parameters\n",
    "    ----------\n",
    "    date_from : str, optional\n",
    "        Start date of the data range with format '%Y-%m-%d'. By default 'None' is used to represent 7 days prior to today's date\n",
    "    date_to : str, optional\n",
    "        End date of data range with format '%Y-%m-%d'. By default 'None' is used to represent today's date\n",
    "    location : list, optional\n",
    "        List of target country names. By default 'None' is used for all countries.\n",
    "\n",
    "    Returns\n",
    "    -------\n",
    "    pandas.DataFrame\n",
    "        Pandas dataframe of the selected covid data.\n",
    "\n",
    "    Examples\n",
    "    --------\n",
    "    >>> get_data(date_from=\"2022-01-01\", date_to=\"2022-01-07\", location=[\"Canada\", \"China\"])\n",
    "    \"\"\"\n",
    "    query = \"@date_from <= date <= @date_to\"\n",
    "    url = \"https://covid.ourworldindata.org/data/owid-covid-data.csv\"\n",
    "\n",
    "    if date_from is None:\n",
    "        date_from = (pd.to_datetime(\"today\").normalize() - pd.to_timedelta(7, unit=\"d\")).strftime('%Y-%m-%d')\n",
    "    \n",
    "    if date_to is None:\n",
    "        date_to = pd.to_datetime(\"today\").normalize().strftime('%Y-%m-%d')\n",
    "    \n",
    "    try:\n",
    "        if date_from != datetime.strptime(date_from, \"%Y-%m-%d\").strftime(\"%Y-%m-%d\"):\n",
    "            raise ValueError\n",
    "    except ValueError:\n",
    "        raise ValueError(\n",
    "            'Invalid argument value: date_from must be in format of \"%Y-%m-%d\". Also check if it is a valid date.'\n",
    "        )\n",
    "    except TypeError:\n",
    "        raise TypeError(\n",
    "            'Invalid argument type: date_from must be in string format of \"%Y-%m-%d\".'\n",
    "        )\n",
    "\n",
    "    try:\n",
    "        if date_to != datetime.strptime(date_to, \"%Y-%m-%d\").strftime(\"%Y-%m-%d\"):\n",
    "            raise ValueError\n",
    "    except ValueError:\n",
    "        raise ValueError(\n",
    "            'Invalid argument value: date_to must be in format of \"%Y-%m-%d\". Also check if it is a valid date.'\n",
    "        )\n",
    "    except TypeError:\n",
    "        raise TypeError(\n",
    "            'Invalid argument type: date_from must be in string format of \"%Y-%m-%d\".'\n",
    "        )\n",
    "\n",
    "    if pd.to_datetime(date_to) < pd.to_datetime(date_from):\n",
    "        raise ValueError(\n",
    "            \"Invalid values: date_from should be smaller or equal to date_to (or today's date if date_to is not specified).\"\n",
    "        )\n",
    "    if pd.to_datetime(date_from) > pd.to_datetime(\"today\").normalize():\n",
    "        raise ValueError(\n",
    "            \"Invalid values: date_from should be smaller or equal to today.\"\n",
    "        )\n",
    "    if pd.to_datetime(date_to) > pd.to_datetime(\"today\").normalize():\n",
    "        raise ValueError(\n",
    "            \"Invalid values: date_to should be smaller or equal to today.\"\n",
    "        )\n",
    "\n",
    "    if location is not None:\n",
    "\n",
    "        if not (isinstance(location, list)):\n",
    "            raise TypeError(\n",
    "                \"Invalid argument type: location must be a list of strings.\"\n",
    "            )\n",
    "\n",
    "        for item in location:\n",
    "            if not (isinstance(item, str)):\n",
    "                raise TypeError(\n",
    "                    \"Invalid argument type: values inside location list must be a strings.\"\n",
    "                )\n",
    "\n",
    "        query += \" and location in @location\"\n",
    "\n",
    "    covid_df = pd.read_csv(url, parse_dates=[\"date\"],)\n",
    "    covid_df = covid_df.query(query)\n",
    "\n",
    "    return covid_df"
   ]
  },
  {
   "cell_type": "code",
   "execution_count": null,
   "id": "e09206c7-30ae-48cc-a59e-134dca97c715",
   "metadata": {},
   "outputs": [],
   "source": [
    "df = get_data()"
   ]
  },
  {
   "cell_type": "code",
   "execution_count": null,
   "id": "84ffb052-7263-4832-88fd-4e30aaf37c14",
   "metadata": {},
   "outputs": [],
   "source": [
    "type(df)"
   ]
  },
  {
   "cell_type": "code",
   "execution_count": null,
   "id": "40fe2018-ee97-410f-ab6b-5c2a492b0ed3",
   "metadata": {},
   "outputs": [],
   "source": [
    "(pd.to_datetime(\"today\").normalize() - pd.to_timedelta(7, unit=\"d\")).strftime('%Y-%m-%d')"
   ]
  },
  {
   "cell_type": "code",
   "execution_count": null,
   "id": "288d4f34-116e-4391-8a33-fc77602b58c6",
   "metadata": {},
   "outputs": [],
   "source": [
    "pd.to_datetime(\"today\").normalize() <= pd.to_datetime(\"2022-01-18\")"
   ]
  },
  {
   "cell_type": "code",
   "execution_count": null,
   "id": "dbcb10d0-1404-4d5d-a91a-b97e921866a8",
   "metadata": {},
   "outputs": [],
   "source": [
    "df = get_data()"
   ]
  },
  {
   "cell_type": "code",
   "execution_count": null,
   "id": "a3779d52-081e-43fc-aa95-29290cff6972",
   "metadata": {},
   "outputs": [],
   "source": [
    "get_data(date_from=(pd.to_datetime(\"today\").normalize() +\n",
    "                            pd.to_timedelta(7, unit=\"d\")).strftime('%Y-%m-%d'))"
   ]
  },
  {
   "cell_type": "code",
   "execution_count": null,
   "id": "911bc9cd-8b2d-4ea0-a75b-ca918b1e4422",
   "metadata": {},
   "outputs": [],
   "source": [
    "(pd.to_datetime(\"today\").normalize() +pd.to_timedelta(7, unit=\"d\")).strftime('%Y-%m-%d')"
   ]
  },
  {
   "cell_type": "code",
   "execution_count": null,
   "id": "6c57a41e-f51e-43c7-8f0c-e033a1ed37c5",
   "metadata": {},
   "outputs": [],
   "source": [
    "df = get_data(location=[\"Canada\", \"China\"])\n",
    "df"
   ]
  },
  {
   "cell_type": "code",
   "execution_count": null,
   "id": "1181f0bd-d78a-4858-8a97-4971d2a8073e",
   "metadata": {},
   "outputs": [],
   "source": [
    "set(df[\"location\"]) == {\"Canada\", \"China\"}"
   ]
  },
  {
   "cell_type": "code",
   "execution_count": null,
   "id": "ece10871-14f9-4640-b4ef-8810b4ed5427",
   "metadata": {},
   "outputs": [],
   "source": [
    "set(df[\"location\"]) "
   ]
  },
  {
   "cell_type": "code",
   "execution_count": null,
   "id": "065be263-30bd-43b9-9bba-97011cddb8d3",
   "metadata": {},
   "outputs": [],
   "source": [
    "len(set([\"China\", \"Canada\"]))"
   ]
  },
  {
   "cell_type": "code",
   "execution_count": null,
   "id": "95699103-e6e3-44ca-a1d9-1ef28f2dc4d2",
   "metadata": {},
   "outputs": [],
   "source": [
    "a = get_data()"
   ]
  },
  {
   "cell_type": "code",
   "execution_count": null,
   "id": "d9080f40-d261-42c1-bf0b-5b417b588bc1",
   "metadata": {},
   "outputs": [],
   "source": [
    "a.sort_values(\"date\", ascending = False)[\"date\"].values[1] == "
   ]
  },
  {
   "cell_type": "code",
   "execution_count": null,
   "id": "75efd3cd-a369-43ea-b7b9-bcc467336e87",
   "metadata": {},
   "outputs": [],
   "source": [
    "pd.to_datetime(\"today\").normalize()"
   ]
  },
  {
   "cell_type": "code",
   "execution_count": null,
   "id": "74ebbfb7-6828-4301-82ad-46ab0d56df2a",
   "metadata": {},
   "outputs": [],
   "source": [
    "a[\"date\"].max() == pd.to_datetime(\"today\").normalize()"
   ]
  },
  {
   "cell_type": "code",
   "execution_count": null,
   "id": "487ac787-e6f7-4ff8-9550-4fd7c2e1efa0",
   "metadata": {},
   "outputs": [],
   "source": [
    "df[\"date\"].min()"
   ]
  },
  {
   "cell_type": "code",
   "execution_count": null,
   "id": "902f4b6d-35a6-4843-8360-0d8485480ab8",
   "metadata": {},
   "outputs": [],
   "source": [
    "(pd.to_datetime(\"today\").normalize() -\n",
    "                                pd.to_timedelta(7, unit=\"d\"))"
   ]
  },
  {
   "cell_type": "code",
   "execution_count": null,
   "id": "dfc35528-7f1c-49cb-b086-d3a81625bedc",
   "metadata": {},
   "outputs": [],
   "source": []
  }
 ],
 "metadata": {
  "kernelspec": {
   "display_name": "Python [conda env:coviz]",
   "language": "python",
   "name": "conda-env-coviz-py"
  },
  "language_info": {
   "codemirror_mode": {
    "name": "ipython",
    "version": 3
   },
   "file_extension": ".py",
   "mimetype": "text/x-python",
   "name": "python",
   "nbconvert_exporter": "python",
   "pygments_lexer": "ipython3",
   "version": "3.10.2"
  }
 },
 "nbformat": 4,
 "nbformat_minor": 5
}
