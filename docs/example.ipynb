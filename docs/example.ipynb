{
 "cells": [
  {
   "cell_type": "markdown",
   "metadata": {},
   "source": [
    "# Example usage\n",
    "To use `covizpy` in a project, import the package with following commands:"
   ]
  },
  {
   "cell_type": "markdown",
   "metadata": {},
   "source": [
    "## Imports"
   ]
  },
  {
   "cell_type": "code",
   "execution_count": 1,
   "metadata": {},
   "outputs": [
    {
     "data": {
      "text/plain": [
       "DataTransformerRegistry.enable('custom')"
      ]
     },
     "execution_count": 1,
     "metadata": {},
     "output_type": "execute_result"
    }
   ],
   "source": [
    "from covizpy.get_data import get_data\n",
    "from covizpy.plot_summary import plot_summary\n",
    "from covizpy.plot_spec import plot_spec\n",
    "from covizpy.plot_metric import plot_metric\n",
    "\n",
    "import altair as alt\n",
    "alt.renderers.enable('html')\n",
    "from altair import limit_rows, to_values\n",
    "from toolz.curried import pipe\n",
    "t = lambda data: pipe(data, limit_rows(max_rows=1000000), to_values)\n",
    "alt.data_transformers.register('custom', t)\n",
    "alt.data_transformers.enable('custom')"
   ]
  },
  {
   "cell_type": "markdown",
   "metadata": {},
   "source": [
    "To use the functions, see below examples:"
   ]
  },
  {
   "cell_type": "markdown",
   "metadata": {},
   "source": [
    "## Retrieve COVID-19 data "
   ]
  },
  {
   "cell_type": "markdown",
   "metadata": {},
   "source": [
    "We will first create a dataframe to retrieve COVID-19 data using `get_data()` function with a specified date range and default all locations.</br>\n",
    "Note that the number of columns displayed here are truncated to fit the page."
   ]
  },
  {
   "cell_type": "code",
   "execution_count": 2,
   "metadata": {},
   "outputs": [
    {
     "data": {
      "text/html": [
       "<div>\n",
       "<style scoped>\n",
       "    .dataframe tbody tr th:only-of-type {\n",
       "        vertical-align: middle;\n",
       "    }\n",
       "\n",
       "    .dataframe tbody tr th {\n",
       "        vertical-align: top;\n",
       "    }\n",
       "\n",
       "    .dataframe thead th {\n",
       "        text-align: right;\n",
       "    }\n",
       "</style>\n",
       "<table border=\"1\" class=\"dataframe\">\n",
       "  <thead>\n",
       "    <tr style=\"text-align: right;\">\n",
       "      <th></th>\n",
       "      <th>iso_code</th>\n",
       "      <th>continent</th>\n",
       "      <th>location</th>\n",
       "      <th>date</th>\n",
       "      <th>total_cases</th>\n",
       "      <th>new_cases</th>\n",
       "    </tr>\n",
       "  </thead>\n",
       "  <tbody>\n",
       "    <tr>\n",
       "      <th>677</th>\n",
       "      <td>AFG</td>\n",
       "      <td>Asia</td>\n",
       "      <td>Afghanistan</td>\n",
       "      <td>2022-01-01</td>\n",
       "      <td>158107.0</td>\n",
       "      <td>23.0</td>\n",
       "    </tr>\n",
       "    <tr>\n",
       "      <th>678</th>\n",
       "      <td>AFG</td>\n",
       "      <td>Asia</td>\n",
       "      <td>Afghanistan</td>\n",
       "      <td>2022-01-02</td>\n",
       "      <td>158189.0</td>\n",
       "      <td>82.0</td>\n",
       "    </tr>\n",
       "    <tr>\n",
       "      <th>679</th>\n",
       "      <td>AFG</td>\n",
       "      <td>Asia</td>\n",
       "      <td>Afghanistan</td>\n",
       "      <td>2022-01-03</td>\n",
       "      <td>158183.0</td>\n",
       "      <td>-6.0</td>\n",
       "    </tr>\n",
       "    <tr>\n",
       "      <th>680</th>\n",
       "      <td>AFG</td>\n",
       "      <td>Asia</td>\n",
       "      <td>Afghanistan</td>\n",
       "      <td>2022-01-04</td>\n",
       "      <td>158205.0</td>\n",
       "      <td>22.0</td>\n",
       "    </tr>\n",
       "    <tr>\n",
       "      <th>681</th>\n",
       "      <td>AFG</td>\n",
       "      <td>Asia</td>\n",
       "      <td>Afghanistan</td>\n",
       "      <td>2022-01-05</td>\n",
       "      <td>158245.0</td>\n",
       "      <td>40.0</td>\n",
       "    </tr>\n",
       "  </tbody>\n",
       "</table>\n",
       "</div>"
      ],
      "text/plain": [
       "    iso_code continent     location       date  total_cases  new_cases\n",
       "677      AFG      Asia  Afghanistan 2022-01-01     158107.0       23.0\n",
       "678      AFG      Asia  Afghanistan 2022-01-02     158189.0       82.0\n",
       "679      AFG      Asia  Afghanistan 2022-01-03     158183.0       -6.0\n",
       "680      AFG      Asia  Afghanistan 2022-01-04     158205.0       22.0\n",
       "681      AFG      Asia  Afghanistan 2022-01-05     158245.0       40.0"
      ]
     },
     "execution_count": 2,
     "metadata": {},
     "output_type": "execute_result"
    }
   ],
   "source": [
    "df = get_data(date_from=\"2022-01-01\", date_to=\"2022-01-21\")\n",
    "df.head().iloc[:,:6]"
   ]
  },
  {
   "cell_type": "markdown",
   "metadata": {},
   "source": [
    "## Plot summary graph (bar chart)"
   ]
  },
  {
   "cell_type": "markdown",
   "metadata": {},
   "source": [
    "We now create a summary bar graph using `plot_summary()` to visualize COVID-19 cases in different countries inside the specified time period."
   ]
  },
  {
   "cell_type": "code",
   "execution_count": 3,
   "metadata": {},
   "outputs": [
    {
     "data": {
      "text/html": [
       "\n",
       "<div id=\"altair-viz-6ffc0a03cc89435282a6006e24e40b5e\"></div>\n",
       "<script type=\"text/javascript\">\n",
       "  var VEGA_DEBUG = (typeof VEGA_DEBUG == \"undefined\") ? {} : VEGA_DEBUG;\n",
       "  (function(spec, embedOpt){\n",
       "    let outputDiv = document.currentScript.previousElementSibling;\n",
       "    if (outputDiv.id !== \"altair-viz-6ffc0a03cc89435282a6006e24e40b5e\") {\n",
       "      outputDiv = document.getElementById(\"altair-viz-6ffc0a03cc89435282a6006e24e40b5e\");\n",
       "    }\n",
       "    const paths = {\n",
       "      \"vega\": \"https://cdn.jsdelivr.net/npm//vega@5?noext\",\n",
       "      \"vega-lib\": \"https://cdn.jsdelivr.net/npm//vega-lib?noext\",\n",
       "      \"vega-lite\": \"https://cdn.jsdelivr.net/npm//vega-lite@4.17.0?noext\",\n",
       "      \"vega-embed\": \"https://cdn.jsdelivr.net/npm//vega-embed@6?noext\",\n",
       "    };\n",
       "\n",
       "    function maybeLoadScript(lib, version) {\n",
       "      var key = `${lib.replace(\"-\", \"\")}_version`;\n",
       "      return (VEGA_DEBUG[key] == version) ?\n",
       "        Promise.resolve(paths[lib]) :\n",
       "        new Promise(function(resolve, reject) {\n",
       "          var s = document.createElement('script');\n",
       "          document.getElementsByTagName(\"head\")[0].appendChild(s);\n",
       "          s.async = true;\n",
       "          s.onload = () => {\n",
       "            VEGA_DEBUG[key] = version;\n",
       "            return resolve(paths[lib]);\n",
       "          };\n",
       "          s.onerror = () => reject(`Error loading script: ${paths[lib]}`);\n",
       "          s.src = paths[lib];\n",
       "        });\n",
       "    }\n",
       "\n",
       "    function showError(err) {\n",
       "      outputDiv.innerHTML = `<div class=\"error\" style=\"color:red;\">${err}</div>`;\n",
       "      throw err;\n",
       "    }\n",
       "\n",
       "    function displayChart(vegaEmbed) {\n",
       "      vegaEmbed(outputDiv, spec, embedOpt)\n",
       "        .catch(err => showError(`Javascript Error: ${err.message}<br>This usually means there's a typo in your chart specification. See the javascript console for the full traceback.`));\n",
       "    }\n",
       "\n",
       "    if(typeof define === \"function\" && define.amd) {\n",
       "      requirejs.config({paths});\n",
       "      require([\"vega-embed\"], displayChart, err => showError(`Error loading script: ${err.message}`));\n",
       "    } else {\n",
       "      maybeLoadScript(\"vega\", \"5\")\n",
       "        .then(() => maybeLoadScript(\"vega-lite\", \"4.17.0\"))\n",
       "        .then(() => maybeLoadScript(\"vega-embed\", \"6\"))\n",
       "        .catch(showError)\n",
       "        .then(() => displayChart(vegaEmbed));\n",
       "    }\n",
       "  })({\"config\": {\"view\": {\"continuousWidth\": 400, \"continuousHeight\": 300}}, \"data\": {\"name\": \"data-fb725266afceed39fdc55b949ae58bae\"}, \"mark\": \"bar\", \"encoding\": {\"color\": {\"field\": \"location\", \"legend\": null, \"type\": \"nominal\"}, \"x\": {\"field\": \"new_cases\", \"title\": \"New Cases\", \"type\": \"quantitative\"}, \"y\": {\"field\": \"location\", \"sort\": \"x\", \"title\": \"Location\", \"type\": \"nominal\"}}, \"title\": {\"text\": \"Top 10 Location by New Cases\", \"subtitle\": [\"from 2022-01-01 to 2022-01-15\"]}, \"$schema\": \"https://vega.github.io/schema/vega-lite/v4.17.0.json\", \"datasets\": {\"data-fb725266afceed39fdc55b949ae58bae\": [{\"location\": \"United States\", \"new_cases\": 10672684.0}, {\"location\": \"France\", \"new_cases\": 3925950.0}, {\"location\": \"Italy\", \"new_cases\": 2423767.0}, {\"location\": \"India\", \"new_cases\": 2260585.0}, {\"location\": \"United Kingdom\", \"new_cases\": 2217630.0}, {\"location\": \"Spain\", \"new_cases\": 1798291.0}, {\"location\": \"Argentina\", \"new_cases\": 1375216.0}, {\"location\": \"Australia\", \"new_cases\": 1300620.0}, {\"location\": \"Turkey\", \"new_cases\": 920514.0}, {\"location\": \"Germany\", \"new_cases\": 795024.0}]}}, {\"mode\": \"vega-lite\"});\n",
       "</script>"
      ],
      "text/plain": [
       "alt.Chart(...)"
      ]
     },
     "execution_count": 3,
     "metadata": {},
     "output_type": "execute_result"
    }
   ],
   "source": [
    "plot_summary(df, var=\"location\", val=\"new_cases\", fun=\"sum\", date_from=\"2022-01-01\", date_to=\"2022-01-15\", top_n=10)"
   ]
  },
  {
   "cell_type": "markdown",
   "metadata": {},
   "source": [
    "## Plot COVID-19 cases for specific countries (line chart)"
   ]
  },
  {
   "cell_type": "markdown",
   "metadata": {},
   "source": [
    "After seeing the summary of COVID-19 cases in several countries, we pass in a list of countries we plot the trend of new cases in the time period using `plot_spec()` function."
   ]
  },
  {
   "cell_type": "code",
   "execution_count": 4,
   "metadata": {},
   "outputs": [
    {
     "data": {
      "text/html": [
       "\n",
       "<div id=\"altair-viz-b99292c0b38447bd952c770fb98b5a2f\"></div>\n",
       "<script type=\"text/javascript\">\n",
       "  var VEGA_DEBUG = (typeof VEGA_DEBUG == \"undefined\") ? {} : VEGA_DEBUG;\n",
       "  (function(spec, embedOpt){\n",
       "    let outputDiv = document.currentScript.previousElementSibling;\n",
       "    if (outputDiv.id !== \"altair-viz-b99292c0b38447bd952c770fb98b5a2f\") {\n",
       "      outputDiv = document.getElementById(\"altair-viz-b99292c0b38447bd952c770fb98b5a2f\");\n",
       "    }\n",
       "    const paths = {\n",
       "      \"vega\": \"https://cdn.jsdelivr.net/npm//vega@5?noext\",\n",
       "      \"vega-lib\": \"https://cdn.jsdelivr.net/npm//vega-lib?noext\",\n",
       "      \"vega-lite\": \"https://cdn.jsdelivr.net/npm//vega-lite@4.17.0?noext\",\n",
       "      \"vega-embed\": \"https://cdn.jsdelivr.net/npm//vega-embed@6?noext\",\n",
       "    };\n",
       "\n",
       "    function maybeLoadScript(lib, version) {\n",
       "      var key = `${lib.replace(\"-\", \"\")}_version`;\n",
       "      return (VEGA_DEBUG[key] == version) ?\n",
       "        Promise.resolve(paths[lib]) :\n",
       "        new Promise(function(resolve, reject) {\n",
       "          var s = document.createElement('script');\n",
       "          document.getElementsByTagName(\"head\")[0].appendChild(s);\n",
       "          s.async = true;\n",
       "          s.onload = () => {\n",
       "            VEGA_DEBUG[key] = version;\n",
       "            return resolve(paths[lib]);\n",
       "          };\n",
       "          s.onerror = () => reject(`Error loading script: ${paths[lib]}`);\n",
       "          s.src = paths[lib];\n",
       "        });\n",
       "    }\n",
       "\n",
       "    function showError(err) {\n",
       "      outputDiv.innerHTML = `<div class=\"error\" style=\"color:red;\">${err}</div>`;\n",
       "      throw err;\n",
       "    }\n",
       "\n",
       "    function displayChart(vegaEmbed) {\n",
       "      vegaEmbed(outputDiv, spec, embedOpt)\n",
       "        .catch(err => showError(`Javascript Error: ${err.message}<br>This usually means there's a typo in your chart specification. See the javascript console for the full traceback.`));\n",
       "    }\n",
       "\n",
       "    if(typeof define === \"function\" && define.amd) {\n",
       "      requirejs.config({paths});\n",
       "      require([\"vega-embed\"], displayChart, err => showError(`Error loading script: ${err.message}`));\n",
       "    } else {\n",
       "      maybeLoadScript(\"vega\", \"5\")\n",
       "        .then(() => maybeLoadScript(\"vega-lite\", \"4.17.0\"))\n",
       "        .then(() => maybeLoadScript(\"vega-embed\", \"6\"))\n",
       "        .catch(showError)\n",
       "        .then(() => displayChart(vegaEmbed));\n",
       "    }\n",
       "  })({\"config\": {\"view\": {\"continuousWidth\": 400, \"continuousHeight\": 300}}, \"layer\": [{\"data\": {\"name\": \"data-6539ea7c8de522d29ca2aa707e91a0bb\"}, \"mark\": \"line\", \"encoding\": {\"color\": {\"field\": \"location\", \"legend\": null, \"type\": \"nominal\"}, \"tooltip\": [{\"field\": \"location\", \"type\": \"nominal\"}, {\"field\": \"new_cases\", \"type\": \"quantitative\"}], \"x\": {\"axis\": {\"format\": \"%e %b, %Y\"}, \"field\": \"date\", \"timeUnit\": \"yearmonthdate\", \"title\": \"Date\", \"type\": \"temporal\"}, \"y\": {\"field\": \"new_cases\", \"title\": \"New Cases\", \"type\": \"quantitative\"}}, \"title\": \"COVID-19 New Cases\"}, {\"data\": {\"name\": \"data-382ccf01413f28880072615ca3c1611c\"}, \"mark\": {\"type\": \"text\", \"dx\": 20}, \"encoding\": {\"color\": {\"field\": \"location\", \"type\": \"nominal\"}, \"text\": {\"field\": \"location\", \"type\": \"nominal\"}, \"x\": {\"axis\": {\"format\": \"%e %b, %Y\"}, \"field\": \"date\", \"timeUnit\": \"yearmonthdate\", \"title\": \"Date\", \"type\": \"temporal\"}, \"y\": {\"field\": \"new_cases\", \"title\": \"New Cases\", \"type\": \"quantitative\"}}}], \"$schema\": \"https://vega.github.io/schema/vega-lite/v4.17.0.json\", \"datasets\": {\"data-6539ea7c8de522d29ca2aa707e91a0bb\": [{\"iso_code\": \"CAN\", \"continent\": \"North America\", \"location\": \"Canada\", \"date\": \"2022-01-01T00:00:00\", \"total_cases\": 2219811.0, \"new_cases\": 37051.0, \"new_cases_smoothed\": 32866.143, \"total_deaths\": 30340.0, \"new_deaths\": 21.0, \"new_deaths_smoothed\": 26.714, \"total_cases_per_million\": 58311.865, \"new_cases_per_million\": 973.287, \"new_cases_smoothed_per_million\": 863.356, \"total_deaths_per_million\": 796.997, \"new_deaths_per_million\": 0.552, \"new_deaths_smoothed_per_million\": 0.702, \"reproduction_rate\": 1.57, \"icu_patients\": 555.0, \"icu_patients_per_million\": 14.579, \"hosp_patients\": 3416.0, \"hosp_patients_per_million\": 89.734, \"weekly_icu_admissions\": null, \"weekly_icu_admissions_per_million\": null, \"weekly_hosp_admissions\": null, \"weekly_hosp_admissions_per_million\": null, \"new_tests\": 96064.0, \"total_tests\": 52758293.0, \"total_tests_per_thousand\": 1385.899, \"new_tests_per_thousand\": 2.523, \"new_tests_smoothed\": 130345.0, \"new_tests_smoothed_per_thousand\": 3.424, \"positive_rate\": 0.2521, \"tests_per_case\": 4.0, \"tests_units\": \"tests performed\", \"total_vaccinations\": 68858661.0, \"people_vaccinated\": 31751774.0, \"people_fully_vaccinated\": 29419071.0, \"total_boosters\": 7687816.0, \"new_vaccinations\": 102450.0, \"new_vaccinations_smoothed\": 237805.0, \"total_vaccinations_per_hundred\": 180.88, \"people_vaccinated_per_hundred\": 83.41, \"people_fully_vaccinated_per_hundred\": 77.28, \"total_boosters_per_hundred\": 20.2, \"new_vaccinations_smoothed_per_million\": 6247.0, \"new_people_vaccinated_smoothed\": 15255.0, \"new_people_vaccinated_smoothed_per_hundred\": 0.04, \"stringency_index\": 71.76, \"population\": 38067913.0, \"population_density\": 4.037, \"median_age\": 41.4, \"aged_65_older\": 16.984, \"aged_70_older\": 10.797, \"gdp_per_capita\": 44017.591, \"extreme_poverty\": 0.5, \"cardiovasc_death_rate\": 105.599, \"diabetes_prevalence\": 7.37, \"female_smokers\": 12.0, \"male_smokers\": 16.6, \"handwashing_facilities\": null, \"hospital_beds_per_thousand\": 2.5, \"life_expectancy\": 82.43, \"human_development_index\": 0.929, \"excess_mortality_cumulative_absolute\": null, \"excess_mortality_cumulative\": null, \"excess_mortality\": null, \"excess_mortality_cumulative_per_million\": null}, {\"iso_code\": \"CAN\", \"continent\": \"North America\", \"location\": \"Canada\", \"date\": \"2022-01-02T00:00:00\", \"total_cases\": 2253626.0, \"new_cases\": 33815.0, \"new_cases_smoothed\": 35085.0, \"total_deaths\": 30370.0, \"new_deaths\": 30.0, \"new_deaths_smoothed\": 29.571, \"total_cases_per_million\": 59200.146, \"new_cases_per_million\": 888.281, \"new_cases_smoothed_per_million\": 921.642, \"total_deaths_per_million\": 797.785, \"new_deaths_per_million\": 0.788, \"new_deaths_smoothed_per_million\": 0.777, \"reproduction_rate\": 1.52, \"icu_patients\": 574.0, \"icu_patients_per_million\": 15.078, \"hosp_patients\": 3289.0, \"hosp_patients_per_million\": 86.398, \"weekly_icu_admissions\": null, \"weekly_icu_admissions_per_million\": null, \"weekly_hosp_admissions\": null, \"weekly_hosp_admissions_per_million\": null, \"new_tests\": 15657.0, \"total_tests\": 52773950.0, \"total_tests_per_thousand\": 1386.311, \"new_tests_per_thousand\": 0.411, \"new_tests_smoothed\": 107320.0, \"new_tests_smoothed_per_thousand\": 2.819, \"positive_rate\": 0.3269, \"tests_per_case\": 3.1, \"tests_units\": \"tests performed\", \"total_vaccinations\": 68880711.0, \"people_vaccinated\": 31753150.0, \"people_fully_vaccinated\": 29420224.0, \"total_boosters\": 7707337.0, \"new_vaccinations\": 22050.0, \"new_vaccinations_smoothed\": 238969.0, \"total_vaccinations_per_hundred\": 180.94, \"people_vaccinated_per_hundred\": 83.41, \"people_fully_vaccinated_per_hundred\": 77.28, \"total_boosters_per_hundred\": 20.25, \"new_vaccinations_smoothed_per_million\": 6277.0, \"new_people_vaccinated_smoothed\": 15379.0, \"new_people_vaccinated_smoothed_per_hundred\": 0.04, \"stringency_index\": 71.76, \"population\": 38067913.0, \"population_density\": 4.037, \"median_age\": 41.4, \"aged_65_older\": 16.984, \"aged_70_older\": 10.797, \"gdp_per_capita\": 44017.591, \"extreme_poverty\": 0.5, \"cardiovasc_death_rate\": 105.599, \"diabetes_prevalence\": 7.37, \"female_smokers\": 12.0, \"male_smokers\": 16.6, \"handwashing_facilities\": null, \"hospital_beds_per_thousand\": 2.5, \"life_expectancy\": 82.43, \"human_development_index\": 0.929, \"excess_mortality_cumulative_absolute\": null, \"excess_mortality_cumulative\": null, \"excess_mortality\": null, \"excess_mortality_cumulative_per_million\": null}, {\"iso_code\": \"CAN\", \"continent\": \"North America\", \"location\": \"Canada\", \"date\": \"2022-01-03T00:00:00\", \"total_cases\": 2292919.0, \"new_cases\": 39293.0, \"new_cases_smoothed\": 37696.429, \"total_deaths\": 30400.0, \"new_deaths\": 30.0, \"new_deaths_smoothed\": 30.0, \"total_cases_per_million\": 60232.327, \"new_cases_per_million\": 1032.182, \"new_cases_smoothed_per_million\": 990.242, \"total_deaths_per_million\": 798.573, \"new_deaths_per_million\": 0.788, \"new_deaths_smoothed_per_million\": 0.788, \"reproduction_rate\": 1.47, \"icu_patients\": 615.0, \"icu_patients_per_million\": 16.155, \"hosp_patients\": 3614.0, \"hosp_patients_per_million\": 94.936, \"weekly_icu_admissions\": null, \"weekly_icu_admissions_per_million\": null, \"weekly_hosp_admissions\": null, \"weekly_hosp_admissions_per_million\": null, \"new_tests\": 14510.0, \"total_tests\": 52788460.0, \"total_tests_per_thousand\": 1386.692, \"new_tests_per_thousand\": 0.381, \"new_tests_smoothed\": 89958.0, \"new_tests_smoothed_per_thousand\": 2.363, \"positive_rate\": 0.419, \"tests_per_case\": 2.4, \"tests_units\": \"tests performed\", \"total_vaccinations\": 68978614.0, \"people_vaccinated\": 31760245.0, \"people_fully_vaccinated\": 29425975.0, \"total_boosters\": 7792394.0, \"new_vaccinations\": 97903.0, \"new_vaccinations_smoothed\": 241224.0, \"total_vaccinations_per_hundred\": 181.2, \"people_vaccinated_per_hundred\": 83.43, \"people_fully_vaccinated_per_hundred\": 77.3, \"total_boosters_per_hundred\": 20.47, \"new_vaccinations_smoothed_per_million\": 6337.0, \"new_people_vaccinated_smoothed\": 15897.0, \"new_people_vaccinated_smoothed_per_hundred\": 0.042, \"stringency_index\": 75.46, \"population\": 38067913.0, \"population_density\": 4.037, \"median_age\": 41.4, \"aged_65_older\": 16.984, \"aged_70_older\": 10.797, \"gdp_per_capita\": 44017.591, \"extreme_poverty\": 0.5, \"cardiovasc_death_rate\": 105.599, \"diabetes_prevalence\": 7.37, \"female_smokers\": 12.0, \"male_smokers\": 16.6, \"handwashing_facilities\": null, \"hospital_beds_per_thousand\": 2.5, \"life_expectancy\": 82.43, \"human_development_index\": 0.929, \"excess_mortality_cumulative_absolute\": null, \"excess_mortality_cumulative\": null, \"excess_mortality\": null, \"excess_mortality_cumulative_per_million\": null}, {\"iso_code\": \"CAN\", \"continent\": \"North America\", \"location\": \"Canada\", \"date\": \"2022-01-04T00:00:00\", \"total_cases\": 2340761.0, \"new_cases\": 47842.0, \"new_cases_smoothed\": 41023.714, \"total_deaths\": 30436.0, \"new_deaths\": 36.0, \"new_deaths_smoothed\": 31.0, \"total_cases_per_million\": 61489.081, \"new_cases_per_million\": 1256.754, \"new_cases_smoothed_per_million\": 1077.645, \"total_deaths_per_million\": 799.518, \"new_deaths_per_million\": 0.946, \"new_deaths_smoothed_per_million\": 0.814, \"reproduction_rate\": 1.44, \"icu_patients\": 662.0, \"icu_patients_per_million\": 17.39, \"hosp_patients\": 4059.0, \"hosp_patients_per_million\": 106.625, \"weekly_icu_admissions\": null, \"weekly_icu_admissions_per_million\": null, \"weekly_hosp_admissions\": null, \"weekly_hosp_admissions_per_million\": null, \"new_tests\": 601278.0, \"total_tests\": 53389738.0, \"total_tests_per_thousand\": 1402.487, \"new_tests_per_thousand\": 15.795, \"new_tests_smoothed\": 158923.0, \"new_tests_smoothed_per_thousand\": 4.175, \"positive_rate\": 0.2581, \"tests_per_case\": 3.9, \"tests_units\": \"tests performed\", \"total_vaccinations\": 69562458.0, \"people_vaccinated\": 31797493.0, \"people_fully_vaccinated\": 29450265.0, \"total_boosters\": 8314700.0, \"new_vaccinations\": 583844.0, \"new_vaccinations_smoothed\": 284736.0, \"total_vaccinations_per_hundred\": 182.73, \"people_vaccinated_per_hundred\": 83.53, \"people_fully_vaccinated_per_hundred\": 77.36, \"total_boosters_per_hundred\": 21.84, \"new_vaccinations_smoothed_per_million\": 7480.0, \"new_people_vaccinated_smoothed\": 19321.0, \"new_people_vaccinated_smoothed_per_hundred\": 0.051, \"stringency_index\": 75.46, \"population\": 38067913.0, \"population_density\": 4.037, \"median_age\": 41.4, \"aged_65_older\": 16.984, \"aged_70_older\": 10.797, \"gdp_per_capita\": 44017.591, \"extreme_poverty\": 0.5, \"cardiovasc_death_rate\": 105.599, \"diabetes_prevalence\": 7.37, \"female_smokers\": 12.0, \"male_smokers\": 16.6, \"handwashing_facilities\": null, \"hospital_beds_per_thousand\": 2.5, \"life_expectancy\": 82.43, \"human_development_index\": 0.929, \"excess_mortality_cumulative_absolute\": null, \"excess_mortality_cumulative\": null, \"excess_mortality\": null, \"excess_mortality_cumulative_per_million\": null}, {\"iso_code\": \"CAN\", \"continent\": \"North America\", \"location\": \"Canada\", \"date\": \"2022-01-05T00:00:00\", \"total_cases\": 2379115.0, \"new_cases\": 38354.0, \"new_cases_smoothed\": 39519.0, \"total_deaths\": 30525.0, \"new_deaths\": 89.0, \"new_deaths_smoothed\": 38.714, \"total_cases_per_million\": 62496.597, \"new_cases_per_million\": 1007.515, \"new_cases_smoothed_per_million\": 1038.118, \"total_deaths_per_million\": 801.856, \"new_deaths_per_million\": 2.338, \"new_deaths_smoothed_per_million\": 1.017, \"reproduction_rate\": 1.36, \"icu_patients\": 701.0, \"icu_patients_per_million\": 18.414, \"hosp_patients\": 5083.0, \"hosp_patients_per_million\": 133.525, \"weekly_icu_admissions\": null, \"weekly_icu_admissions_per_million\": null, \"weekly_hosp_admissions\": null, \"weekly_hosp_admissions_per_million\": null, \"new_tests\": 137777.0, \"total_tests\": 53527515.0, \"total_tests_per_thousand\": 1406.106, \"new_tests_per_thousand\": 3.619, \"new_tests_smoothed\": 159916.0, \"new_tests_smoothed_per_thousand\": 4.201, \"positive_rate\": 0.2471, \"tests_per_case\": 4.0, \"tests_units\": \"tests performed\", \"total_vaccinations\": 69952213.0, \"people_vaccinated\": 31819607.0, \"people_fully_vaccinated\": 29467043.0, \"total_boosters\": 8665563.0, \"new_vaccinations\": 389755.0, \"new_vaccinations_smoothed\": 266746.0, \"total_vaccinations_per_hundred\": 183.76, \"people_vaccinated_per_hundred\": 83.59, \"people_fully_vaccinated_per_hundred\": 77.41, \"total_boosters_per_hundred\": 22.76, \"new_vaccinations_smoothed_per_million\": 7007.0, \"new_people_vaccinated_smoothed\": 16754.0, \"new_people_vaccinated_smoothed_per_hundred\": 0.044, \"stringency_index\": 75.46, \"population\": 38067913.0, \"population_density\": 4.037, \"median_age\": 41.4, \"aged_65_older\": 16.984, \"aged_70_older\": 10.797, \"gdp_per_capita\": 44017.591, \"extreme_poverty\": 0.5, \"cardiovasc_death_rate\": 105.599, \"diabetes_prevalence\": 7.37, \"female_smokers\": 12.0, \"male_smokers\": 16.6, \"handwashing_facilities\": null, \"hospital_beds_per_thousand\": 2.5, \"life_expectancy\": 82.43, \"human_development_index\": 0.929, \"excess_mortality_cumulative_absolute\": null, \"excess_mortality_cumulative\": null, \"excess_mortality\": null, \"excess_mortality_cumulative_per_million\": null}, {\"iso_code\": \"CAN\", \"continent\": \"North America\", \"location\": \"Canada\", \"date\": \"2022-01-06T00:00:00\", \"total_cases\": 2420789.0, \"new_cases\": 41674.0, \"new_cases_smoothed\": 39805.143, \"total_deaths\": 30585.0, \"new_deaths\": 60.0, \"new_deaths_smoothed\": 43.429, \"total_cases_per_million\": 63591.324, \"new_cases_per_million\": 1094.728, \"new_cases_smoothed_per_million\": 1045.635, \"total_deaths_per_million\": 803.433, \"new_deaths_per_million\": 1.576, \"new_deaths_smoothed_per_million\": 1.141, \"reproduction_rate\": 1.31, \"icu_patients\": 753.0, \"icu_patients_per_million\": 19.78, \"hosp_patients\": 5532.0, \"hosp_patients_per_million\": 145.319, \"weekly_icu_admissions\": null, \"weekly_icu_admissions_per_million\": null, \"weekly_hosp_admissions\": null, \"weekly_hosp_admissions_per_million\": null, \"new_tests\": 145814.0, \"total_tests\": 53673329.0, \"total_tests_per_thousand\": 1409.936, \"new_tests_per_thousand\": 3.83, \"new_tests_smoothed\": 158941.0, \"new_tests_smoothed_per_thousand\": 4.175, \"positive_rate\": 0.2504, \"tests_per_case\": 4.0, \"tests_units\": \"tests performed\", \"total_vaccinations\": 70370584.0, \"people_vaccinated\": 31838710.0, \"people_fully_vaccinated\": 29490152.0, \"total_boosters\": 9041722.0, \"new_vaccinations\": 418371.0, \"new_vaccinations_smoothed\": 277600.0, \"total_vaccinations_per_hundred\": 184.86, \"people_vaccinated_per_hundred\": 83.64, \"people_fully_vaccinated_per_hundred\": 77.47, \"total_boosters_per_hundred\": 23.75, \"new_vaccinations_smoothed_per_million\": 7292.0, \"new_people_vaccinated_smoothed\": 16437.0, \"new_people_vaccinated_smoothed_per_hundred\": 0.043, \"stringency_index\": 75.46, \"population\": 38067913.0, \"population_density\": 4.037, \"median_age\": 41.4, \"aged_65_older\": 16.984, \"aged_70_older\": 10.797, \"gdp_per_capita\": 44017.591, \"extreme_poverty\": 0.5, \"cardiovasc_death_rate\": 105.599, \"diabetes_prevalence\": 7.37, \"female_smokers\": 12.0, \"male_smokers\": 16.6, \"handwashing_facilities\": null, \"hospital_beds_per_thousand\": 2.5, \"life_expectancy\": 82.43, \"human_development_index\": 0.929, \"excess_mortality_cumulative_absolute\": null, \"excess_mortality_cumulative\": null, \"excess_mortality\": null, \"excess_mortality_cumulative_per_million\": null}, {\"iso_code\": \"CAN\", \"continent\": \"North America\", \"location\": \"Canada\", \"date\": \"2022-01-07T00:00:00\", \"total_cases\": 2465300.0, \"new_cases\": 44511.0, \"new_cases_smoothed\": 40362.857, \"total_deaths\": 30668.0, \"new_deaths\": 83.0, \"new_deaths_smoothed\": 49.857, \"total_cases_per_million\": 64760.577, \"new_cases_per_million\": 1169.252, \"new_cases_smoothed_per_million\": 1060.286, \"total_deaths_per_million\": 805.613, \"new_deaths_per_million\": 2.18, \"new_deaths_smoothed_per_million\": 1.31, \"reproduction_rate\": 1.25, \"icu_patients\": 793.0, \"icu_patients_per_million\": 20.831, \"hosp_patients\": 5981.0, \"hosp_patients_per_million\": 157.114, \"weekly_icu_admissions\": null, \"weekly_icu_admissions_per_million\": null, \"weekly_hosp_admissions\": null, \"weekly_hosp_admissions_per_million\": null, \"new_tests\": 152673.0, \"total_tests\": 53826002.0, \"total_tests_per_thousand\": 1413.947, \"new_tests_per_thousand\": 4.011, \"new_tests_smoothed\": 166253.0, \"new_tests_smoothed_per_thousand\": 4.367, \"positive_rate\": 0.2428, \"tests_per_case\": 4.1, \"tests_units\": \"tests performed\", \"total_vaccinations\": 70798251.0, \"people_vaccinated\": 31868906.0, \"people_fully_vaccinated\": 29504056.0, \"total_boosters\": 9425289.0, \"new_vaccinations\": 427667.0, \"new_vaccinations_smoothed\": 291720.0, \"total_vaccinations_per_hundred\": 185.98, \"people_vaccinated_per_hundred\": 83.72, \"people_fully_vaccinated_per_hundred\": 77.5, \"total_boosters_per_hundred\": 24.76, \"new_vaccinations_smoothed_per_million\": 7663.0, \"new_people_vaccinated_smoothed\": 17762.0, \"new_people_vaccinated_smoothed_per_hundred\": 0.047, \"stringency_index\": 75.46, \"population\": 38067913.0, \"population_density\": 4.037, \"median_age\": 41.4, \"aged_65_older\": 16.984, \"aged_70_older\": 10.797, \"gdp_per_capita\": 44017.591, \"extreme_poverty\": 0.5, \"cardiovasc_death_rate\": 105.599, \"diabetes_prevalence\": 7.37, \"female_smokers\": 12.0, \"male_smokers\": 16.6, \"handwashing_facilities\": null, \"hospital_beds_per_thousand\": 2.5, \"life_expectancy\": 82.43, \"human_development_index\": 0.929, \"excess_mortality_cumulative_absolute\": null, \"excess_mortality_cumulative\": null, \"excess_mortality\": null, \"excess_mortality_cumulative_per_million\": null}, {\"iso_code\": \"TUR\", \"continent\": \"Asia\", \"location\": \"Turkey\", \"date\": \"2022-01-01T00:00:00\", \"total_cases\": 9519281.0, \"new_cases\": 36731.0, \"new_cases_smoothed\": 33185.0, \"total_deaths\": 82506.0, \"new_deaths\": 145.0, \"new_deaths_smoothed\": 178.286, \"total_cases_per_million\": 111935.263, \"new_cases_per_million\": 431.912, \"new_cases_smoothed_per_million\": 390.216, \"total_deaths_per_million\": 970.171, \"new_deaths_per_million\": 1.705, \"new_deaths_smoothed_per_million\": 2.096, \"reproduction_rate\": 1.45, \"icu_patients\": null, \"icu_patients_per_million\": null, \"hosp_patients\": null, \"hosp_patients_per_million\": null, \"weekly_icu_admissions\": null, \"weekly_icu_admissions_per_million\": null, \"weekly_hosp_admissions\": null, \"weekly_hosp_admissions_per_million\": null, \"new_tests\": 369027.0, \"total_tests\": 119353889.0, \"total_tests_per_thousand\": 1403.458, \"new_tests_per_thousand\": 4.339, \"new_tests_smoothed\": 365842.0, \"new_tests_smoothed_per_thousand\": 4.302, \"positive_rate\": 0.0907, \"tests_per_case\": 11.0, \"tests_units\": \"tests performed\", \"total_vaccinations\": 131930475.0, \"people_vaccinated\": 56925363.0, \"people_fully_vaccinated\": 51621727.0, \"total_boosters\": 23383385.0, \"new_vaccinations\": 284470.0, \"new_vaccinations_smoothed\": 511603.0, \"total_vaccinations_per_hundred\": 155.13, \"people_vaccinated_per_hundred\": 66.94, \"people_fully_vaccinated_per_hundred\": 60.7, \"total_boosters_per_hundred\": 27.5, \"new_vaccinations_smoothed_per_million\": 6016.0, \"new_people_vaccinated_smoothed\": 19434.0, \"new_people_vaccinated_smoothed_per_hundred\": 0.023, \"stringency_index\": 49.07, \"population\": 85042736.0, \"population_density\": 104.914, \"median_age\": 31.6, \"aged_65_older\": 8.153, \"aged_70_older\": 5.061, \"gdp_per_capita\": 25129.341, \"extreme_poverty\": 0.2, \"cardiovasc_death_rate\": 171.285, \"diabetes_prevalence\": 12.13, \"female_smokers\": 14.1, \"male_smokers\": 41.1, \"handwashing_facilities\": null, \"hospital_beds_per_thousand\": 2.81, \"life_expectancy\": 77.69, \"human_development_index\": 0.82, \"excess_mortality_cumulative_absolute\": null, \"excess_mortality_cumulative\": null, \"excess_mortality\": null, \"excess_mortality_cumulative_per_million\": null}, {\"iso_code\": \"TUR\", \"continent\": \"Asia\", \"location\": \"Turkey\", \"date\": \"2022-01-02T00:00:00\", \"total_cases\": 9552801.0, \"new_cases\": 33520.0, \"new_cases_smoothed\": 35096.714, \"total_deaths\": 82635.0, \"new_deaths\": 129.0, \"new_deaths_smoothed\": 151.286, \"total_cases_per_million\": 112329.418, \"new_cases_per_million\": 394.155, \"new_cases_smoothed_per_million\": 412.695, \"total_deaths_per_million\": 971.688, \"new_deaths_per_million\": 1.517, \"new_deaths_smoothed_per_million\": 1.779, \"reproduction_rate\": 1.44, \"icu_patients\": null, \"icu_patients_per_million\": null, \"hosp_patients\": null, \"hosp_patients_per_million\": null, \"weekly_icu_admissions\": null, \"weekly_icu_admissions_per_million\": null, \"weekly_hosp_admissions\": null, \"weekly_hosp_admissions_per_million\": null, \"new_tests\": 362836.0, \"total_tests\": 119716725.0, \"total_tests_per_thousand\": 1407.724, \"new_tests_per_thousand\": 4.267, \"new_tests_smoothed\": 367395.0, \"new_tests_smoothed_per_thousand\": 4.32, \"positive_rate\": 0.0955, \"tests_per_case\": 10.5, \"tests_units\": \"tests performed\", \"total_vaccinations\": 132215015.0, \"people_vaccinated\": 56936303.0, \"people_fully_vaccinated\": 51638889.0, \"total_boosters\": 23639823.0, \"new_vaccinations\": 284540.0, \"new_vaccinations_smoothed\": 508590.0, \"total_vaccinations_per_hundred\": 155.47, \"people_vaccinated_per_hundred\": 66.95, \"people_fully_vaccinated_per_hundred\": 60.72, \"total_boosters_per_hundred\": 27.8, \"new_vaccinations_smoothed_per_million\": 5980.0, \"new_people_vaccinated_smoothed\": 19575.0, \"new_people_vaccinated_smoothed_per_hundred\": 0.023, \"stringency_index\": 49.07, \"population\": 85042736.0, \"population_density\": 104.914, \"median_age\": 31.6, \"aged_65_older\": 8.153, \"aged_70_older\": 5.061, \"gdp_per_capita\": 25129.341, \"extreme_poverty\": 0.2, \"cardiovasc_death_rate\": 171.285, \"diabetes_prevalence\": 12.13, \"female_smokers\": 14.1, \"male_smokers\": 41.1, \"handwashing_facilities\": null, \"hospital_beds_per_thousand\": 2.81, \"life_expectancy\": 77.69, \"human_development_index\": 0.82, \"excess_mortality_cumulative_absolute\": null, \"excess_mortality_cumulative\": null, \"excess_mortality\": null, \"excess_mortality_cumulative_per_million\": null}, {\"iso_code\": \"TUR\", \"continent\": \"Asia\", \"location\": \"Turkey\", \"date\": \"2022-01-03T00:00:00\", \"total_cases\": 9597670.0, \"new_cases\": 44869.0, \"new_cases_smoothed\": 37778.143, \"total_deaths\": 82795.0, \"new_deaths\": 160.0, \"new_deaths_smoothed\": 151.714, \"total_cases_per_million\": 112857.023, \"new_cases_per_million\": 527.605, \"new_cases_smoothed_per_million\": 444.225, \"total_deaths_per_million\": 973.569, \"new_deaths_per_million\": 1.881, \"new_deaths_smoothed_per_million\": 1.784, \"reproduction_rate\": 1.5, \"icu_patients\": null, \"icu_patients_per_million\": null, \"hosp_patients\": null, \"hosp_patients_per_million\": null, \"weekly_icu_admissions\": null, \"weekly_icu_admissions_per_million\": null, \"weekly_hosp_admissions\": null, \"weekly_hosp_admissions_per_million\": null, \"new_tests\": 368913.0, \"total_tests\": 120085638.0, \"total_tests_per_thousand\": 1412.062, \"new_tests_per_thousand\": 4.338, \"new_tests_smoothed\": 368306.0, \"new_tests_smoothed_per_thousand\": 4.331, \"positive_rate\": 0.1026, \"tests_per_case\": 9.7, \"tests_units\": \"tests performed\", \"total_vaccinations\": 132897714.0, \"people_vaccinated\": 56960334.0, \"people_fully_vaccinated\": 51677320.0, \"total_boosters\": 24260060.0, \"new_vaccinations\": 682699.0, \"new_vaccinations_smoothed\": 509267.0, \"total_vaccinations_per_hundred\": 156.27, \"people_vaccinated_per_hundred\": 66.98, \"people_fully_vaccinated_per_hundred\": 60.77, \"total_boosters_per_hundred\": 28.53, \"new_vaccinations_smoothed_per_million\": 5988.0, \"new_people_vaccinated_smoothed\": 19608.0, \"new_people_vaccinated_smoothed_per_hundred\": 0.023, \"stringency_index\": 49.07, \"population\": 85042736.0, \"population_density\": 104.914, \"median_age\": 31.6, \"aged_65_older\": 8.153, \"aged_70_older\": 5.061, \"gdp_per_capita\": 25129.341, \"extreme_poverty\": 0.2, \"cardiovasc_death_rate\": 171.285, \"diabetes_prevalence\": 12.13, \"female_smokers\": 14.1, \"male_smokers\": 41.1, \"handwashing_facilities\": null, \"hospital_beds_per_thousand\": 2.81, \"life_expectancy\": 77.69, \"human_development_index\": 0.82, \"excess_mortality_cumulative_absolute\": null, \"excess_mortality_cumulative\": null, \"excess_mortality\": null, \"excess_mortality_cumulative_per_million\": null}, {\"iso_code\": \"TUR\", \"continent\": \"Asia\", \"location\": \"Turkey\", \"date\": \"2022-01-04T00:00:00\", \"total_cases\": 9652394.0, \"new_cases\": 54724.0, \"new_cases_smoothed\": 40999.286, \"total_deaths\": 82932.0, \"new_deaths\": 137.0, \"new_deaths_smoothed\": 145.0, \"total_cases_per_million\": 113500.511, \"new_cases_per_million\": 643.488, \"new_cases_smoothed_per_million\": 482.102, \"total_deaths_per_million\": 975.18, \"new_deaths_per_million\": 1.611, \"new_deaths_smoothed_per_million\": 1.705, \"reproduction_rate\": 1.56, \"icu_patients\": null, \"icu_patients_per_million\": null, \"hosp_patients\": null, \"hosp_patients_per_million\": null, \"weekly_icu_admissions\": null, \"weekly_icu_admissions_per_million\": null, \"weekly_hosp_admissions\": null, \"weekly_hosp_admissions_per_million\": null, \"new_tests\": 382888.0, \"total_tests\": 120468526.0, \"total_tests_per_thousand\": 1416.565, \"new_tests_per_thousand\": 4.502, \"new_tests_smoothed\": 370313.0, \"new_tests_smoothed_per_thousand\": 4.354, \"positive_rate\": 0.1107, \"tests_per_case\": 9.0, \"tests_units\": \"tests performed\", \"total_vaccinations\": null, \"people_vaccinated\": null, \"people_fully_vaccinated\": null, \"total_boosters\": null, \"new_vaccinations\": null, \"new_vaccinations_smoothed\": 510554.0, \"total_vaccinations_per_hundred\": null, \"people_vaccinated_per_hundred\": null, \"people_fully_vaccinated_per_hundred\": null, \"total_boosters_per_hundred\": null, \"new_vaccinations_smoothed_per_million\": 6003.0, \"new_people_vaccinated_smoothed\": 19937.0, \"new_people_vaccinated_smoothed_per_hundred\": 0.023, \"stringency_index\": 49.07, \"population\": 85042736.0, \"population_density\": 104.914, \"median_age\": 31.6, \"aged_65_older\": 8.153, \"aged_70_older\": 5.061, \"gdp_per_capita\": 25129.341, \"extreme_poverty\": 0.2, \"cardiovasc_death_rate\": 171.285, \"diabetes_prevalence\": 12.13, \"female_smokers\": 14.1, \"male_smokers\": 41.1, \"handwashing_facilities\": null, \"hospital_beds_per_thousand\": 2.81, \"life_expectancy\": 77.69, \"human_development_index\": 0.82, \"excess_mortality_cumulative_absolute\": null, \"excess_mortality_cumulative\": null, \"excess_mortality\": null, \"excess_mortality_cumulative_per_million\": null}, {\"iso_code\": \"TUR\", \"continent\": \"Asia\", \"location\": \"Turkey\", \"date\": \"2022-01-05T00:00:00\", \"total_cases\": 9718861.0, \"new_cases\": 66467.0, \"new_cases_smoothed\": 45254.0, \"total_deaths\": 83075.0, \"new_deaths\": 143.0, \"new_deaths_smoothed\": 165.429, \"total_cases_per_million\": 114282.083, \"new_cases_per_million\": 781.572, \"new_cases_smoothed_per_million\": 532.132, \"total_deaths_per_million\": 976.862, \"new_deaths_per_million\": 1.682, \"new_deaths_smoothed_per_million\": 1.945, \"reproduction_rate\": 1.59, \"icu_patients\": null, \"icu_patients_per_million\": null, \"hosp_patients\": null, \"hosp_patients_per_million\": null, \"weekly_icu_admissions\": null, \"weekly_icu_admissions_per_million\": null, \"weekly_hosp_admissions\": null, \"weekly_hosp_admissions_per_million\": null, \"new_tests\": 417787.0, \"total_tests\": 120886313.0, \"total_tests_per_thousand\": 1421.477, \"new_tests_per_thousand\": 4.913, \"new_tests_smoothed\": 377659.0, \"new_tests_smoothed_per_thousand\": 4.441, \"positive_rate\": 0.1198, \"tests_per_case\": 8.3, \"tests_units\": \"tests performed\", \"total_vaccinations\": 134195065.0, \"people_vaccinated\": 57009739.0, \"people_fully_vaccinated\": 51756893.0, \"total_boosters\": 25428433.0, \"new_vaccinations\": null, \"new_vaccinations_smoothed\": 517601.0, \"total_vaccinations_per_hundred\": 157.8, \"people_vaccinated_per_hundred\": 67.04, \"people_fully_vaccinated_per_hundred\": 60.86, \"total_boosters_per_hundred\": 29.9, \"new_vaccinations_smoothed_per_million\": 6086.0, \"new_people_vaccinated_smoothed\": 20302.0, \"new_people_vaccinated_smoothed_per_hundred\": 0.024, \"stringency_index\": 49.07, \"population\": 85042736.0, \"population_density\": 104.914, \"median_age\": 31.6, \"aged_65_older\": 8.153, \"aged_70_older\": 5.061, \"gdp_per_capita\": 25129.341, \"extreme_poverty\": 0.2, \"cardiovasc_death_rate\": 171.285, \"diabetes_prevalence\": 12.13, \"female_smokers\": 14.1, \"male_smokers\": 41.1, \"handwashing_facilities\": null, \"hospital_beds_per_thousand\": 2.81, \"life_expectancy\": 77.69, \"human_development_index\": 0.82, \"excess_mortality_cumulative_absolute\": null, \"excess_mortality_cumulative\": null, \"excess_mortality\": null, \"excess_mortality_cumulative_per_million\": null}, {\"iso_code\": \"TUR\", \"continent\": \"Asia\", \"location\": \"Turkey\", \"date\": \"2022-01-06T00:00:00\", \"total_cases\": 9787274.0, \"new_cases\": 68413.0, \"new_cases_smoothed\": 49358.571, \"total_deaths\": 83231.0, \"new_deaths\": 156.0, \"new_deaths_smoothed\": 147.571, \"total_cases_per_million\": 115086.537, \"new_cases_per_million\": 804.454, \"new_cases_smoothed_per_million\": 580.397, \"total_deaths_per_million\": 978.696, \"new_deaths_per_million\": 1.834, \"new_deaths_smoothed_per_million\": 1.735, \"reproduction_rate\": 1.57, \"icu_patients\": null, \"icu_patients_per_million\": null, \"hosp_patients\": null, \"hosp_patients_per_million\": null, \"weekly_icu_admissions\": null, \"weekly_icu_admissions_per_million\": null, \"weekly_hosp_admissions\": null, \"weekly_hosp_admissions_per_million\": null, \"new_tests\": 418823.0, \"total_tests\": 121305136.0, \"total_tests_per_thousand\": 1426.402, \"new_tests_per_thousand\": 4.925, \"new_tests_smoothed\": 384684.0, \"new_tests_smoothed_per_thousand\": 4.523, \"positive_rate\": 0.1283, \"tests_per_case\": 7.8, \"tests_units\": \"tests performed\", \"total_vaccinations\": 134863259.0, \"people_vaccinated\": 57036087.0, \"people_fully_vaccinated\": 51798496.0, \"total_boosters\": 26028676.0, \"new_vaccinations\": 668194.0, \"new_vaccinations_smoothed\": 532641.0, \"total_vaccinations_per_hundred\": 158.58, \"people_vaccinated_per_hundred\": 67.07, \"people_fully_vaccinated_per_hundred\": 60.91, \"total_boosters_per_hundred\": 30.61, \"new_vaccinations_smoothed_per_million\": 6263.0, \"new_people_vaccinated_smoothed\": 20735.0, \"new_people_vaccinated_smoothed_per_hundred\": 0.024, \"stringency_index\": 49.07, \"population\": 85042736.0, \"population_density\": 104.914, \"median_age\": 31.6, \"aged_65_older\": 8.153, \"aged_70_older\": 5.061, \"gdp_per_capita\": 25129.341, \"extreme_poverty\": 0.2, \"cardiovasc_death_rate\": 171.285, \"diabetes_prevalence\": 12.13, \"female_smokers\": 14.1, \"male_smokers\": 41.1, \"handwashing_facilities\": null, \"hospital_beds_per_thousand\": 2.81, \"life_expectancy\": 77.69, \"human_development_index\": 0.82, \"excess_mortality_cumulative_absolute\": null, \"excess_mortality_cumulative\": null, \"excess_mortality\": null, \"excess_mortality_cumulative_per_million\": null}, {\"iso_code\": \"TUR\", \"continent\": \"Asia\", \"location\": \"Turkey\", \"date\": \"2022-01-07T00:00:00\", \"total_cases\": 9850488.0, \"new_cases\": 63214.0, \"new_cases_smoothed\": 52562.571, \"total_deaths\": 83388.0, \"new_deaths\": 157.0, \"new_deaths_smoothed\": 146.714, \"total_cases_per_million\": 115829.858, \"new_cases_per_million\": 743.32, \"new_cases_smoothed_per_million\": 618.072, \"total_deaths_per_million\": 980.542, \"new_deaths_per_million\": 1.846, \"new_deaths_smoothed_per_million\": 1.725, \"reproduction_rate\": 1.51, \"icu_patients\": null, \"icu_patients_per_million\": null, \"hosp_patients\": null, \"hosp_patients_per_million\": null, \"weekly_icu_admissions\": null, \"weekly_icu_admissions_per_million\": null, \"weekly_hosp_admissions\": null, \"weekly_hosp_admissions_per_million\": null, \"new_tests\": 406796.0, \"total_tests\": 121711932.0, \"total_tests_per_thousand\": 1431.186, \"new_tests_per_thousand\": 4.783, \"new_tests_smoothed\": 389581.0, \"new_tests_smoothed_per_thousand\": 4.581, \"positive_rate\": 0.1349, \"tests_per_case\": 7.4, \"tests_units\": \"tests performed\", \"total_vaccinations\": 135618050.0, \"people_vaccinated\": 57067961.0, \"people_fully_vaccinated\": 51847785.0, \"total_boosters\": 26702304.0, \"new_vaccinations\": 754791.0, \"new_vaccinations_smoothed\": 567435.0, \"total_vaccinations_per_hundred\": 159.47, \"people_vaccinated_per_hundred\": 67.11, \"people_fully_vaccinated_per_hundred\": 60.97, \"total_boosters_per_hundred\": 31.4, \"new_vaccinations_smoothed_per_million\": 6672.0, \"new_people_vaccinated_smoothed\": 21956.0, \"new_people_vaccinated_smoothed_per_hundred\": 0.026, \"stringency_index\": 49.07, \"population\": 85042736.0, \"population_density\": 104.914, \"median_age\": 31.6, \"aged_65_older\": 8.153, \"aged_70_older\": 5.061, \"gdp_per_capita\": 25129.341, \"extreme_poverty\": 0.2, \"cardiovasc_death_rate\": 171.285, \"diabetes_prevalence\": 12.13, \"female_smokers\": 14.1, \"male_smokers\": 41.1, \"handwashing_facilities\": null, \"hospital_beds_per_thousand\": 2.81, \"life_expectancy\": 77.69, \"human_development_index\": 0.82, \"excess_mortality_cumulative_absolute\": null, \"excess_mortality_cumulative\": null, \"excess_mortality\": null, \"excess_mortality_cumulative_per_million\": null}], \"data-382ccf01413f28880072615ca3c1611c\": [{\"iso_code\": \"TUR\", \"continent\": \"Asia\", \"location\": \"Turkey\", \"date\": \"2022-01-07T00:00:00\", \"total_cases\": 9850488.0, \"new_cases\": 63214.0, \"new_cases_smoothed\": 52562.571, \"total_deaths\": 83388.0, \"new_deaths\": 157.0, \"new_deaths_smoothed\": 146.714, \"total_cases_per_million\": 115829.858, \"new_cases_per_million\": 743.32, \"new_cases_smoothed_per_million\": 618.072, \"total_deaths_per_million\": 980.542, \"new_deaths_per_million\": 1.846, \"new_deaths_smoothed_per_million\": 1.725, \"reproduction_rate\": 1.51, \"icu_patients\": null, \"icu_patients_per_million\": null, \"hosp_patients\": null, \"hosp_patients_per_million\": null, \"weekly_icu_admissions\": null, \"weekly_icu_admissions_per_million\": null, \"weekly_hosp_admissions\": null, \"weekly_hosp_admissions_per_million\": null, \"new_tests\": 406796.0, \"total_tests\": 121711932.0, \"total_tests_per_thousand\": 1431.186, \"new_tests_per_thousand\": 4.783, \"new_tests_smoothed\": 389581.0, \"new_tests_smoothed_per_thousand\": 4.581, \"positive_rate\": 0.1349, \"tests_per_case\": 7.4, \"tests_units\": \"tests performed\", \"total_vaccinations\": 135618050.0, \"people_vaccinated\": 57067961.0, \"people_fully_vaccinated\": 51847785.0, \"total_boosters\": 26702304.0, \"new_vaccinations\": 754791.0, \"new_vaccinations_smoothed\": 567435.0, \"total_vaccinations_per_hundred\": 159.47, \"people_vaccinated_per_hundred\": 67.11, \"people_fully_vaccinated_per_hundred\": 60.97, \"total_boosters_per_hundred\": 31.4, \"new_vaccinations_smoothed_per_million\": 6672.0, \"new_people_vaccinated_smoothed\": 21956.0, \"new_people_vaccinated_smoothed_per_hundred\": 0.026, \"stringency_index\": 49.07, \"population\": 85042736.0, \"population_density\": 104.914, \"median_age\": 31.6, \"aged_65_older\": 8.153, \"aged_70_older\": 5.061, \"gdp_per_capita\": 25129.341, \"extreme_poverty\": 0.2, \"cardiovasc_death_rate\": 171.285, \"diabetes_prevalence\": 12.13, \"female_smokers\": 14.1, \"male_smokers\": 41.1, \"handwashing_facilities\": null, \"hospital_beds_per_thousand\": 2.81, \"life_expectancy\": 77.69, \"human_development_index\": 0.82, \"excess_mortality_cumulative_absolute\": null, \"excess_mortality_cumulative\": null, \"excess_mortality\": null, \"excess_mortality_cumulative_per_million\": null}, {\"iso_code\": \"CAN\", \"continent\": \"North America\", \"location\": \"Canada\", \"date\": \"2022-01-07T00:00:00\", \"total_cases\": 2465300.0, \"new_cases\": 44511.0, \"new_cases_smoothed\": 40362.857, \"total_deaths\": 30668.0, \"new_deaths\": 83.0, \"new_deaths_smoothed\": 49.857, \"total_cases_per_million\": 64760.577, \"new_cases_per_million\": 1169.252, \"new_cases_smoothed_per_million\": 1060.286, \"total_deaths_per_million\": 805.613, \"new_deaths_per_million\": 2.18, \"new_deaths_smoothed_per_million\": 1.31, \"reproduction_rate\": 1.25, \"icu_patients\": 793.0, \"icu_patients_per_million\": 20.831, \"hosp_patients\": 5981.0, \"hosp_patients_per_million\": 157.114, \"weekly_icu_admissions\": null, \"weekly_icu_admissions_per_million\": null, \"weekly_hosp_admissions\": null, \"weekly_hosp_admissions_per_million\": null, \"new_tests\": 152673.0, \"total_tests\": 53826002.0, \"total_tests_per_thousand\": 1413.947, \"new_tests_per_thousand\": 4.011, \"new_tests_smoothed\": 166253.0, \"new_tests_smoothed_per_thousand\": 4.367, \"positive_rate\": 0.2428, \"tests_per_case\": 4.1, \"tests_units\": \"tests performed\", \"total_vaccinations\": 70798251.0, \"people_vaccinated\": 31868906.0, \"people_fully_vaccinated\": 29504056.0, \"total_boosters\": 9425289.0, \"new_vaccinations\": 427667.0, \"new_vaccinations_smoothed\": 291720.0, \"total_vaccinations_per_hundred\": 185.98, \"people_vaccinated_per_hundred\": 83.72, \"people_fully_vaccinated_per_hundred\": 77.5, \"total_boosters_per_hundred\": 24.76, \"new_vaccinations_smoothed_per_million\": 7663.0, \"new_people_vaccinated_smoothed\": 17762.0, \"new_people_vaccinated_smoothed_per_hundred\": 0.047, \"stringency_index\": 75.46, \"population\": 38067913.0, \"population_density\": 4.037, \"median_age\": 41.4, \"aged_65_older\": 16.984, \"aged_70_older\": 10.797, \"gdp_per_capita\": 44017.591, \"extreme_poverty\": 0.5, \"cardiovasc_death_rate\": 105.599, \"diabetes_prevalence\": 7.37, \"female_smokers\": 12.0, \"male_smokers\": 16.6, \"handwashing_facilities\": null, \"hospital_beds_per_thousand\": 2.5, \"life_expectancy\": 82.43, \"human_development_index\": 0.929, \"excess_mortality_cumulative_absolute\": null, \"excess_mortality_cumulative\": null, \"excess_mortality\": null, \"excess_mortality_cumulative_per_million\": null}]}}, {\"mode\": \"vega-lite\"});\n",
       "</script>"
      ],
      "text/plain": [
       "alt.LayerChart(...)"
      ]
     },
     "execution_count": 4,
     "metadata": {},
     "output_type": "execute_result"
    }
   ],
   "source": [
    "plot_spec(df, location=[\"Canada\", \"Turkey\"], val=\"new_cases\", date_from=\"2022-01-01\", date_to=\"2022-01-07\")"
   ]
  },
  {
   "cell_type": "markdown",
   "metadata": {},
   "source": [
    "## Plot new COVID-19 cases versus another metric (line chart)"
   ]
  },
  {
   "cell_type": "markdown",
   "metadata": {},
   "source": [
    "Now we illustrate the trend of new cases for a specific location with another suitable metric using `plot_metric()` function."
   ]
  },
  {
   "cell_type": "code",
   "execution_count": 5,
   "metadata": {},
   "outputs": [
    {
     "data": {
      "text/html": [
       "\n",
       "<div id=\"altair-viz-3171901611d64fbca1cf219b26768451\"></div>\n",
       "<script type=\"text/javascript\">\n",
       "  var VEGA_DEBUG = (typeof VEGA_DEBUG == \"undefined\") ? {} : VEGA_DEBUG;\n",
       "  (function(spec, embedOpt){\n",
       "    let outputDiv = document.currentScript.previousElementSibling;\n",
       "    if (outputDiv.id !== \"altair-viz-3171901611d64fbca1cf219b26768451\") {\n",
       "      outputDiv = document.getElementById(\"altair-viz-3171901611d64fbca1cf219b26768451\");\n",
       "    }\n",
       "    const paths = {\n",
       "      \"vega\": \"https://cdn.jsdelivr.net/npm//vega@5?noext\",\n",
       "      \"vega-lib\": \"https://cdn.jsdelivr.net/npm//vega-lib?noext\",\n",
       "      \"vega-lite\": \"https://cdn.jsdelivr.net/npm//vega-lite@4.17.0?noext\",\n",
       "      \"vega-embed\": \"https://cdn.jsdelivr.net/npm//vega-embed@6?noext\",\n",
       "    };\n",
       "\n",
       "    function maybeLoadScript(lib, version) {\n",
       "      var key = `${lib.replace(\"-\", \"\")}_version`;\n",
       "      return (VEGA_DEBUG[key] == version) ?\n",
       "        Promise.resolve(paths[lib]) :\n",
       "        new Promise(function(resolve, reject) {\n",
       "          var s = document.createElement('script');\n",
       "          document.getElementsByTagName(\"head\")[0].appendChild(s);\n",
       "          s.async = true;\n",
       "          s.onload = () => {\n",
       "            VEGA_DEBUG[key] = version;\n",
       "            return resolve(paths[lib]);\n",
       "          };\n",
       "          s.onerror = () => reject(`Error loading script: ${paths[lib]}`);\n",
       "          s.src = paths[lib];\n",
       "        });\n",
       "    }\n",
       "\n",
       "    function showError(err) {\n",
       "      outputDiv.innerHTML = `<div class=\"error\" style=\"color:red;\">${err}</div>`;\n",
       "      throw err;\n",
       "    }\n",
       "\n",
       "    function displayChart(vegaEmbed) {\n",
       "      vegaEmbed(outputDiv, spec, embedOpt)\n",
       "        .catch(err => showError(`Javascript Error: ${err.message}<br>This usually means there's a typo in your chart specification. See the javascript console for the full traceback.`));\n",
       "    }\n",
       "\n",
       "    if(typeof define === \"function\" && define.amd) {\n",
       "      requirejs.config({paths});\n",
       "      require([\"vega-embed\"], displayChart, err => showError(`Error loading script: ${err.message}`));\n",
       "    } else {\n",
       "      maybeLoadScript(\"vega\", \"5\")\n",
       "        .then(() => maybeLoadScript(\"vega-lite\", \"4.17.0\"))\n",
       "        .then(() => maybeLoadScript(\"vega-embed\", \"6\"))\n",
       "        .catch(showError)\n",
       "        .then(() => displayChart(vegaEmbed));\n",
       "    }\n",
       "  })({\"config\": {\"view\": {\"continuousWidth\": 400, \"continuousHeight\": 300}}, \"layer\": [{\"mark\": {\"type\": \"line\", \"color\": \"skyblue\", \"interpolate\": \"monotone\"}, \"encoding\": {\"x\": {\"axis\": {\"format\": \"%e %b, %Y\"}, \"field\": \"date\", \"timeUnit\": \"yearmonthdate\", \"title\": \"Date\", \"type\": \"temporal\"}, \"y\": {\"aggregate\": \"sum\", \"axis\": {\"title\": \"Daily new cases\", \"titleColor\": \"skyblue\"}, \"field\": \"new_cases\", \"scale\": {\"zero\": false}, \"type\": \"quantitative\"}}}, {\"mark\": {\"type\": \"line\", \"color\": \"orange\", \"interpolate\": \"monotone\"}, \"encoding\": {\"x\": {\"axis\": {\"format\": \"%e %b, %Y\"}, \"field\": \"date\", \"timeUnit\": \"yearmonthdate\", \"title\": \"Date\", \"type\": \"temporal\"}, \"y\": {\"aggregate\": \"mean\", \"axis\": {\"title\": \"Mean positive rate\", \"titleColor\": \"orange\"}, \"field\": \"positive_rate\", \"scale\": {\"zero\": false}, \"type\": \"quantitative\"}}}], \"data\": {\"name\": \"data-9360b30a076f529805b644f244a5b6f2\"}, \"resolve\": {\"scale\": {\"y\": \"independent\"}}, \"title\": \"Daily COVID cases versus Mean positive rate in Canada\", \"$schema\": \"https://vega.github.io/schema/vega-lite/v4.17.0.json\", \"datasets\": {\"data-9360b30a076f529805b644f244a5b6f2\": [{\"iso_code\": \"CAN\", \"continent\": \"North America\", \"location\": \"Canada\", \"date\": \"2022-01-01T00:00:00\", \"total_cases\": 2219811.0, \"new_cases\": 37051.0, \"new_cases_smoothed\": 32866.143, \"total_deaths\": 30340.0, \"new_deaths\": 21.0, \"new_deaths_smoothed\": 26.714, \"total_cases_per_million\": 58311.865, \"new_cases_per_million\": 973.287, \"new_cases_smoothed_per_million\": 863.356, \"total_deaths_per_million\": 796.997, \"new_deaths_per_million\": 0.552, \"new_deaths_smoothed_per_million\": 0.702, \"reproduction_rate\": 1.57, \"icu_patients\": 555.0, \"icu_patients_per_million\": 14.579, \"hosp_patients\": 3416.0, \"hosp_patients_per_million\": 89.734, \"weekly_icu_admissions\": null, \"weekly_icu_admissions_per_million\": null, \"weekly_hosp_admissions\": null, \"weekly_hosp_admissions_per_million\": null, \"new_tests\": 96064.0, \"total_tests\": 52758293.0, \"total_tests_per_thousand\": 1385.899, \"new_tests_per_thousand\": 2.523, \"new_tests_smoothed\": 130345.0, \"new_tests_smoothed_per_thousand\": 3.424, \"positive_rate\": 0.2521, \"tests_per_case\": 4.0, \"tests_units\": \"tests performed\", \"total_vaccinations\": 68858661.0, \"people_vaccinated\": 31751774.0, \"people_fully_vaccinated\": 29419071.0, \"total_boosters\": 7687816.0, \"new_vaccinations\": 102450.0, \"new_vaccinations_smoothed\": 237805.0, \"total_vaccinations_per_hundred\": 180.88, \"people_vaccinated_per_hundred\": 83.41, \"people_fully_vaccinated_per_hundred\": 77.28, \"total_boosters_per_hundred\": 20.2, \"new_vaccinations_smoothed_per_million\": 6247.0, \"new_people_vaccinated_smoothed\": 15255.0, \"new_people_vaccinated_smoothed_per_hundred\": 0.04, \"stringency_index\": 71.76, \"population\": 38067913.0, \"population_density\": 4.037, \"median_age\": 41.4, \"aged_65_older\": 16.984, \"aged_70_older\": 10.797, \"gdp_per_capita\": 44017.591, \"extreme_poverty\": 0.5, \"cardiovasc_death_rate\": 105.599, \"diabetes_prevalence\": 7.37, \"female_smokers\": 12.0, \"male_smokers\": 16.6, \"handwashing_facilities\": null, \"hospital_beds_per_thousand\": 2.5, \"life_expectancy\": 82.43, \"human_development_index\": 0.929, \"excess_mortality_cumulative_absolute\": null, \"excess_mortality_cumulative\": null, \"excess_mortality\": null, \"excess_mortality_cumulative_per_million\": null}, {\"iso_code\": \"CAN\", \"continent\": \"North America\", \"location\": \"Canada\", \"date\": \"2022-01-02T00:00:00\", \"total_cases\": 2253626.0, \"new_cases\": 33815.0, \"new_cases_smoothed\": 35085.0, \"total_deaths\": 30370.0, \"new_deaths\": 30.0, \"new_deaths_smoothed\": 29.571, \"total_cases_per_million\": 59200.146, \"new_cases_per_million\": 888.281, \"new_cases_smoothed_per_million\": 921.642, \"total_deaths_per_million\": 797.785, \"new_deaths_per_million\": 0.788, \"new_deaths_smoothed_per_million\": 0.777, \"reproduction_rate\": 1.52, \"icu_patients\": 574.0, \"icu_patients_per_million\": 15.078, \"hosp_patients\": 3289.0, \"hosp_patients_per_million\": 86.398, \"weekly_icu_admissions\": null, \"weekly_icu_admissions_per_million\": null, \"weekly_hosp_admissions\": null, \"weekly_hosp_admissions_per_million\": null, \"new_tests\": 15657.0, \"total_tests\": 52773950.0, \"total_tests_per_thousand\": 1386.311, \"new_tests_per_thousand\": 0.411, \"new_tests_smoothed\": 107320.0, \"new_tests_smoothed_per_thousand\": 2.819, \"positive_rate\": 0.3269, \"tests_per_case\": 3.1, \"tests_units\": \"tests performed\", \"total_vaccinations\": 68880711.0, \"people_vaccinated\": 31753150.0, \"people_fully_vaccinated\": 29420224.0, \"total_boosters\": 7707337.0, \"new_vaccinations\": 22050.0, \"new_vaccinations_smoothed\": 238969.0, \"total_vaccinations_per_hundred\": 180.94, \"people_vaccinated_per_hundred\": 83.41, \"people_fully_vaccinated_per_hundred\": 77.28, \"total_boosters_per_hundred\": 20.25, \"new_vaccinations_smoothed_per_million\": 6277.0, \"new_people_vaccinated_smoothed\": 15379.0, \"new_people_vaccinated_smoothed_per_hundred\": 0.04, \"stringency_index\": 71.76, \"population\": 38067913.0, \"population_density\": 4.037, \"median_age\": 41.4, \"aged_65_older\": 16.984, \"aged_70_older\": 10.797, \"gdp_per_capita\": 44017.591, \"extreme_poverty\": 0.5, \"cardiovasc_death_rate\": 105.599, \"diabetes_prevalence\": 7.37, \"female_smokers\": 12.0, \"male_smokers\": 16.6, \"handwashing_facilities\": null, \"hospital_beds_per_thousand\": 2.5, \"life_expectancy\": 82.43, \"human_development_index\": 0.929, \"excess_mortality_cumulative_absolute\": null, \"excess_mortality_cumulative\": null, \"excess_mortality\": null, \"excess_mortality_cumulative_per_million\": null}, {\"iso_code\": \"CAN\", \"continent\": \"North America\", \"location\": \"Canada\", \"date\": \"2022-01-03T00:00:00\", \"total_cases\": 2292919.0, \"new_cases\": 39293.0, \"new_cases_smoothed\": 37696.429, \"total_deaths\": 30400.0, \"new_deaths\": 30.0, \"new_deaths_smoothed\": 30.0, \"total_cases_per_million\": 60232.327, \"new_cases_per_million\": 1032.182, \"new_cases_smoothed_per_million\": 990.242, \"total_deaths_per_million\": 798.573, \"new_deaths_per_million\": 0.788, \"new_deaths_smoothed_per_million\": 0.788, \"reproduction_rate\": 1.47, \"icu_patients\": 615.0, \"icu_patients_per_million\": 16.155, \"hosp_patients\": 3614.0, \"hosp_patients_per_million\": 94.936, \"weekly_icu_admissions\": null, \"weekly_icu_admissions_per_million\": null, \"weekly_hosp_admissions\": null, \"weekly_hosp_admissions_per_million\": null, \"new_tests\": 14510.0, \"total_tests\": 52788460.0, \"total_tests_per_thousand\": 1386.692, \"new_tests_per_thousand\": 0.381, \"new_tests_smoothed\": 89958.0, \"new_tests_smoothed_per_thousand\": 2.363, \"positive_rate\": 0.419, \"tests_per_case\": 2.4, \"tests_units\": \"tests performed\", \"total_vaccinations\": 68978614.0, \"people_vaccinated\": 31760245.0, \"people_fully_vaccinated\": 29425975.0, \"total_boosters\": 7792394.0, \"new_vaccinations\": 97903.0, \"new_vaccinations_smoothed\": 241224.0, \"total_vaccinations_per_hundred\": 181.2, \"people_vaccinated_per_hundred\": 83.43, \"people_fully_vaccinated_per_hundred\": 77.3, \"total_boosters_per_hundred\": 20.47, \"new_vaccinations_smoothed_per_million\": 6337.0, \"new_people_vaccinated_smoothed\": 15897.0, \"new_people_vaccinated_smoothed_per_hundred\": 0.042, \"stringency_index\": 75.46, \"population\": 38067913.0, \"population_density\": 4.037, \"median_age\": 41.4, \"aged_65_older\": 16.984, \"aged_70_older\": 10.797, \"gdp_per_capita\": 44017.591, \"extreme_poverty\": 0.5, \"cardiovasc_death_rate\": 105.599, \"diabetes_prevalence\": 7.37, \"female_smokers\": 12.0, \"male_smokers\": 16.6, \"handwashing_facilities\": null, \"hospital_beds_per_thousand\": 2.5, \"life_expectancy\": 82.43, \"human_development_index\": 0.929, \"excess_mortality_cumulative_absolute\": null, \"excess_mortality_cumulative\": null, \"excess_mortality\": null, \"excess_mortality_cumulative_per_million\": null}, {\"iso_code\": \"CAN\", \"continent\": \"North America\", \"location\": \"Canada\", \"date\": \"2022-01-04T00:00:00\", \"total_cases\": 2340761.0, \"new_cases\": 47842.0, \"new_cases_smoothed\": 41023.714, \"total_deaths\": 30436.0, \"new_deaths\": 36.0, \"new_deaths_smoothed\": 31.0, \"total_cases_per_million\": 61489.081, \"new_cases_per_million\": 1256.754, \"new_cases_smoothed_per_million\": 1077.645, \"total_deaths_per_million\": 799.518, \"new_deaths_per_million\": 0.946, \"new_deaths_smoothed_per_million\": 0.814, \"reproduction_rate\": 1.44, \"icu_patients\": 662.0, \"icu_patients_per_million\": 17.39, \"hosp_patients\": 4059.0, \"hosp_patients_per_million\": 106.625, \"weekly_icu_admissions\": null, \"weekly_icu_admissions_per_million\": null, \"weekly_hosp_admissions\": null, \"weekly_hosp_admissions_per_million\": null, \"new_tests\": 601278.0, \"total_tests\": 53389738.0, \"total_tests_per_thousand\": 1402.487, \"new_tests_per_thousand\": 15.795, \"new_tests_smoothed\": 158923.0, \"new_tests_smoothed_per_thousand\": 4.175, \"positive_rate\": 0.2581, \"tests_per_case\": 3.9, \"tests_units\": \"tests performed\", \"total_vaccinations\": 69562458.0, \"people_vaccinated\": 31797493.0, \"people_fully_vaccinated\": 29450265.0, \"total_boosters\": 8314700.0, \"new_vaccinations\": 583844.0, \"new_vaccinations_smoothed\": 284736.0, \"total_vaccinations_per_hundred\": 182.73, \"people_vaccinated_per_hundred\": 83.53, \"people_fully_vaccinated_per_hundred\": 77.36, \"total_boosters_per_hundred\": 21.84, \"new_vaccinations_smoothed_per_million\": 7480.0, \"new_people_vaccinated_smoothed\": 19321.0, \"new_people_vaccinated_smoothed_per_hundred\": 0.051, \"stringency_index\": 75.46, \"population\": 38067913.0, \"population_density\": 4.037, \"median_age\": 41.4, \"aged_65_older\": 16.984, \"aged_70_older\": 10.797, \"gdp_per_capita\": 44017.591, \"extreme_poverty\": 0.5, \"cardiovasc_death_rate\": 105.599, \"diabetes_prevalence\": 7.37, \"female_smokers\": 12.0, \"male_smokers\": 16.6, \"handwashing_facilities\": null, \"hospital_beds_per_thousand\": 2.5, \"life_expectancy\": 82.43, \"human_development_index\": 0.929, \"excess_mortality_cumulative_absolute\": null, \"excess_mortality_cumulative\": null, \"excess_mortality\": null, \"excess_mortality_cumulative_per_million\": null}, {\"iso_code\": \"CAN\", \"continent\": \"North America\", \"location\": \"Canada\", \"date\": \"2022-01-05T00:00:00\", \"total_cases\": 2379115.0, \"new_cases\": 38354.0, \"new_cases_smoothed\": 39519.0, \"total_deaths\": 30525.0, \"new_deaths\": 89.0, \"new_deaths_smoothed\": 38.714, \"total_cases_per_million\": 62496.597, \"new_cases_per_million\": 1007.515, \"new_cases_smoothed_per_million\": 1038.118, \"total_deaths_per_million\": 801.856, \"new_deaths_per_million\": 2.338, \"new_deaths_smoothed_per_million\": 1.017, \"reproduction_rate\": 1.36, \"icu_patients\": 701.0, \"icu_patients_per_million\": 18.414, \"hosp_patients\": 5083.0, \"hosp_patients_per_million\": 133.525, \"weekly_icu_admissions\": null, \"weekly_icu_admissions_per_million\": null, \"weekly_hosp_admissions\": null, \"weekly_hosp_admissions_per_million\": null, \"new_tests\": 137777.0, \"total_tests\": 53527515.0, \"total_tests_per_thousand\": 1406.106, \"new_tests_per_thousand\": 3.619, \"new_tests_smoothed\": 159916.0, \"new_tests_smoothed_per_thousand\": 4.201, \"positive_rate\": 0.2471, \"tests_per_case\": 4.0, \"tests_units\": \"tests performed\", \"total_vaccinations\": 69952213.0, \"people_vaccinated\": 31819607.0, \"people_fully_vaccinated\": 29467043.0, \"total_boosters\": 8665563.0, \"new_vaccinations\": 389755.0, \"new_vaccinations_smoothed\": 266746.0, \"total_vaccinations_per_hundred\": 183.76, \"people_vaccinated_per_hundred\": 83.59, \"people_fully_vaccinated_per_hundred\": 77.41, \"total_boosters_per_hundred\": 22.76, \"new_vaccinations_smoothed_per_million\": 7007.0, \"new_people_vaccinated_smoothed\": 16754.0, \"new_people_vaccinated_smoothed_per_hundred\": 0.044, \"stringency_index\": 75.46, \"population\": 38067913.0, \"population_density\": 4.037, \"median_age\": 41.4, \"aged_65_older\": 16.984, \"aged_70_older\": 10.797, \"gdp_per_capita\": 44017.591, \"extreme_poverty\": 0.5, \"cardiovasc_death_rate\": 105.599, \"diabetes_prevalence\": 7.37, \"female_smokers\": 12.0, \"male_smokers\": 16.6, \"handwashing_facilities\": null, \"hospital_beds_per_thousand\": 2.5, \"life_expectancy\": 82.43, \"human_development_index\": 0.929, \"excess_mortality_cumulative_absolute\": null, \"excess_mortality_cumulative\": null, \"excess_mortality\": null, \"excess_mortality_cumulative_per_million\": null}, {\"iso_code\": \"CAN\", \"continent\": \"North America\", \"location\": \"Canada\", \"date\": \"2022-01-06T00:00:00\", \"total_cases\": 2420789.0, \"new_cases\": 41674.0, \"new_cases_smoothed\": 39805.143, \"total_deaths\": 30585.0, \"new_deaths\": 60.0, \"new_deaths_smoothed\": 43.429, \"total_cases_per_million\": 63591.324, \"new_cases_per_million\": 1094.728, \"new_cases_smoothed_per_million\": 1045.635, \"total_deaths_per_million\": 803.433, \"new_deaths_per_million\": 1.576, \"new_deaths_smoothed_per_million\": 1.141, \"reproduction_rate\": 1.31, \"icu_patients\": 753.0, \"icu_patients_per_million\": 19.78, \"hosp_patients\": 5532.0, \"hosp_patients_per_million\": 145.319, \"weekly_icu_admissions\": null, \"weekly_icu_admissions_per_million\": null, \"weekly_hosp_admissions\": null, \"weekly_hosp_admissions_per_million\": null, \"new_tests\": 145814.0, \"total_tests\": 53673329.0, \"total_tests_per_thousand\": 1409.936, \"new_tests_per_thousand\": 3.83, \"new_tests_smoothed\": 158941.0, \"new_tests_smoothed_per_thousand\": 4.175, \"positive_rate\": 0.2504, \"tests_per_case\": 4.0, \"tests_units\": \"tests performed\", \"total_vaccinations\": 70370584.0, \"people_vaccinated\": 31838710.0, \"people_fully_vaccinated\": 29490152.0, \"total_boosters\": 9041722.0, \"new_vaccinations\": 418371.0, \"new_vaccinations_smoothed\": 277600.0, \"total_vaccinations_per_hundred\": 184.86, \"people_vaccinated_per_hundred\": 83.64, \"people_fully_vaccinated_per_hundred\": 77.47, \"total_boosters_per_hundred\": 23.75, \"new_vaccinations_smoothed_per_million\": 7292.0, \"new_people_vaccinated_smoothed\": 16437.0, \"new_people_vaccinated_smoothed_per_hundred\": 0.043, \"stringency_index\": 75.46, \"population\": 38067913.0, \"population_density\": 4.037, \"median_age\": 41.4, \"aged_65_older\": 16.984, \"aged_70_older\": 10.797, \"gdp_per_capita\": 44017.591, \"extreme_poverty\": 0.5, \"cardiovasc_death_rate\": 105.599, \"diabetes_prevalence\": 7.37, \"female_smokers\": 12.0, \"male_smokers\": 16.6, \"handwashing_facilities\": null, \"hospital_beds_per_thousand\": 2.5, \"life_expectancy\": 82.43, \"human_development_index\": 0.929, \"excess_mortality_cumulative_absolute\": null, \"excess_mortality_cumulative\": null, \"excess_mortality\": null, \"excess_mortality_cumulative_per_million\": null}, {\"iso_code\": \"CAN\", \"continent\": \"North America\", \"location\": \"Canada\", \"date\": \"2022-01-07T00:00:00\", \"total_cases\": 2465300.0, \"new_cases\": 44511.0, \"new_cases_smoothed\": 40362.857, \"total_deaths\": 30668.0, \"new_deaths\": 83.0, \"new_deaths_smoothed\": 49.857, \"total_cases_per_million\": 64760.577, \"new_cases_per_million\": 1169.252, \"new_cases_smoothed_per_million\": 1060.286, \"total_deaths_per_million\": 805.613, \"new_deaths_per_million\": 2.18, \"new_deaths_smoothed_per_million\": 1.31, \"reproduction_rate\": 1.25, \"icu_patients\": 793.0, \"icu_patients_per_million\": 20.831, \"hosp_patients\": 5981.0, \"hosp_patients_per_million\": 157.114, \"weekly_icu_admissions\": null, \"weekly_icu_admissions_per_million\": null, \"weekly_hosp_admissions\": null, \"weekly_hosp_admissions_per_million\": null, \"new_tests\": 152673.0, \"total_tests\": 53826002.0, \"total_tests_per_thousand\": 1413.947, \"new_tests_per_thousand\": 4.011, \"new_tests_smoothed\": 166253.0, \"new_tests_smoothed_per_thousand\": 4.367, \"positive_rate\": 0.2428, \"tests_per_case\": 4.1, \"tests_units\": \"tests performed\", \"total_vaccinations\": 70798251.0, \"people_vaccinated\": 31868906.0, \"people_fully_vaccinated\": 29504056.0, \"total_boosters\": 9425289.0, \"new_vaccinations\": 427667.0, \"new_vaccinations_smoothed\": 291720.0, \"total_vaccinations_per_hundred\": 185.98, \"people_vaccinated_per_hundred\": 83.72, \"people_fully_vaccinated_per_hundred\": 77.5, \"total_boosters_per_hundred\": 24.76, \"new_vaccinations_smoothed_per_million\": 7663.0, \"new_people_vaccinated_smoothed\": 17762.0, \"new_people_vaccinated_smoothed_per_hundred\": 0.047, \"stringency_index\": 75.46, \"population\": 38067913.0, \"population_density\": 4.037, \"median_age\": 41.4, \"aged_65_older\": 16.984, \"aged_70_older\": 10.797, \"gdp_per_capita\": 44017.591, \"extreme_poverty\": 0.5, \"cardiovasc_death_rate\": 105.599, \"diabetes_prevalence\": 7.37, \"female_smokers\": 12.0, \"male_smokers\": 16.6, \"handwashing_facilities\": null, \"hospital_beds_per_thousand\": 2.5, \"life_expectancy\": 82.43, \"human_development_index\": 0.929, \"excess_mortality_cumulative_absolute\": null, \"excess_mortality_cumulative\": null, \"excess_mortality\": null, \"excess_mortality_cumulative_per_million\": null}, {\"iso_code\": \"CAN\", \"continent\": \"North America\", \"location\": \"Canada\", \"date\": \"2022-01-08T00:00:00\", \"total_cases\": 2496203.0, \"new_cases\": 30903.0, \"new_cases_smoothed\": 39484.571, \"total_deaths\": 30699.0, \"new_deaths\": 31.0, \"new_deaths_smoothed\": 51.286, \"total_cases_per_million\": 65572.363, \"new_cases_per_million\": 811.786, \"new_cases_smoothed_per_million\": 1037.214, \"total_deaths_per_million\": 806.427, \"new_deaths_per_million\": 0.814, \"new_deaths_smoothed_per_million\": 1.347, \"reproduction_rate\": 1.2, \"icu_patients\": 858.0, \"icu_patients_per_million\": 22.539, \"hosp_patients\": 6286.0, \"hosp_patients_per_million\": 165.126, \"weekly_icu_admissions\": null, \"weekly_icu_admissions_per_million\": null, \"weekly_hosp_admissions\": null, \"weekly_hosp_admissions_per_million\": null, \"new_tests\": 100599.0, \"total_tests\": 53926601.0, \"total_tests_per_thousand\": 1416.589, \"new_tests_per_thousand\": 2.643, \"new_tests_smoothed\": 166901.0, \"new_tests_smoothed_per_thousand\": 4.384, \"positive_rate\": 0.2366, \"tests_per_case\": 4.2, \"tests_units\": \"tests performed\", \"total_vaccinations\": 71098745.0, \"people_vaccinated\": 31886448.0, \"people_fully_vaccinated\": 29517260.0, \"total_boosters\": 9695037.0, \"new_vaccinations\": 300494.0, \"new_vaccinations_smoothed\": 320012.0, \"total_vaccinations_per_hundred\": 186.77, \"people_vaccinated_per_hundred\": 83.76, \"people_fully_vaccinated_per_hundred\": 77.54, \"total_boosters_per_hundred\": 25.47, \"new_vaccinations_smoothed_per_million\": 8406.0, \"new_people_vaccinated_smoothed\": 19239.0, \"new_people_vaccinated_smoothed_per_hundred\": 0.051, \"stringency_index\": 75.46, \"population\": 38067913.0, \"population_density\": 4.037, \"median_age\": 41.4, \"aged_65_older\": 16.984, \"aged_70_older\": 10.797, \"gdp_per_capita\": 44017.591, \"extreme_poverty\": 0.5, \"cardiovasc_death_rate\": 105.599, \"diabetes_prevalence\": 7.37, \"female_smokers\": 12.0, \"male_smokers\": 16.6, \"handwashing_facilities\": null, \"hospital_beds_per_thousand\": 2.5, \"life_expectancy\": 82.43, \"human_development_index\": 0.929, \"excess_mortality_cumulative_absolute\": null, \"excess_mortality_cumulative\": null, \"excess_mortality\": null, \"excess_mortality_cumulative_per_million\": null}, {\"iso_code\": \"CAN\", \"continent\": \"North America\", \"location\": \"Canada\", \"date\": \"2022-01-09T00:00:00\", \"total_cases\": 2525386.0, \"new_cases\": 29183.0, \"new_cases_smoothed\": 38822.857, \"total_deaths\": 30765.0, \"new_deaths\": 66.0, \"new_deaths_smoothed\": 56.429, \"total_cases_per_million\": 66338.966, \"new_cases_per_million\": 766.604, \"new_cases_smoothed_per_million\": 1019.832, \"total_deaths_per_million\": 808.161, \"new_deaths_per_million\": 1.734, \"new_deaths_smoothed_per_million\": 1.482, \"reproduction_rate\": 1.15, \"icu_patients\": 896.0, \"icu_patients_per_million\": 23.537, \"hosp_patients\": 6255.0, \"hosp_patients_per_million\": 164.312, \"weekly_icu_admissions\": null, \"weekly_icu_admissions_per_million\": null, \"weekly_hosp_admissions\": null, \"weekly_hosp_admissions_per_million\": null, \"new_tests\": 17880.0, \"total_tests\": 53944481.0, \"total_tests_per_thousand\": 1417.059, \"new_tests_per_thousand\": 0.47, \"new_tests_smoothed\": 167219.0, \"new_tests_smoothed_per_thousand\": 4.393, \"positive_rate\": 0.2322, \"tests_per_case\": 4.3, \"tests_units\": \"tests performed\", \"total_vaccinations\": 71315287.0, \"people_vaccinated\": 31903352.0, \"people_fully_vaccinated\": 29528397.0, \"total_boosters\": 9883538.0, \"new_vaccinations\": 216542.0, \"new_vaccinations_smoothed\": 347797.0, \"total_vaccinations_per_hundred\": 187.34, \"people_vaccinated_per_hundred\": 83.81, \"people_fully_vaccinated_per_hundred\": 77.57, \"total_boosters_per_hundred\": 25.96, \"new_vaccinations_smoothed_per_million\": 9136.0, \"new_people_vaccinated_smoothed\": 21457.0, \"new_people_vaccinated_smoothed_per_hundred\": 0.056, \"stringency_index\": 75.46, \"population\": 38067913.0, \"population_density\": 4.037, \"median_age\": 41.4, \"aged_65_older\": 16.984, \"aged_70_older\": 10.797, \"gdp_per_capita\": 44017.591, \"extreme_poverty\": 0.5, \"cardiovasc_death_rate\": 105.599, \"diabetes_prevalence\": 7.37, \"female_smokers\": 12.0, \"male_smokers\": 16.6, \"handwashing_facilities\": null, \"hospital_beds_per_thousand\": 2.5, \"life_expectancy\": 82.43, \"human_development_index\": 0.929, \"excess_mortality_cumulative_absolute\": null, \"excess_mortality_cumulative\": null, \"excess_mortality\": null, \"excess_mortality_cumulative_per_million\": null}, {\"iso_code\": \"CAN\", \"continent\": \"North America\", \"location\": \"Canada\", \"date\": \"2022-01-10T00:00:00\", \"total_cases\": 2584277.0, \"new_cases\": 58891.0, \"new_cases_smoothed\": 41622.571, \"total_deaths\": 30861.0, \"new_deaths\": 96.0, \"new_deaths_smoothed\": 65.857, \"total_cases_per_million\": 67885.965, \"new_cases_per_million\": 1546.998, \"new_cases_smoothed_per_million\": 1093.377, \"total_deaths_per_million\": 810.683, \"new_deaths_per_million\": 2.522, \"new_deaths_smoothed_per_million\": 1.73, \"reproduction_rate\": 1.1, \"icu_patients\": 917.0, \"icu_patients_per_million\": 24.089, \"hosp_patients\": 6733.0, \"hosp_patients_per_million\": 176.868, \"weekly_icu_admissions\": null, \"weekly_icu_admissions_per_million\": null, \"weekly_hosp_admissions\": null, \"weekly_hosp_admissions_per_million\": null, \"new_tests\": 345284.0, \"total_tests\": 54289765.0, \"total_tests_per_thousand\": 1426.129, \"new_tests_per_thousand\": 9.07, \"new_tests_smoothed\": 214472.0, \"new_tests_smoothed_per_thousand\": 5.634, \"positive_rate\": 0.1941, \"tests_per_case\": 5.2, \"tests_units\": \"tests performed\", \"total_vaccinations\": 71716169.0, \"people_vaccinated\": 31931680.0, \"people_fully_vaccinated\": 29551323.0, \"total_boosters\": 10233166.0, \"new_vaccinations\": 400882.0, \"new_vaccinations_smoothed\": 391079.0, \"total_vaccinations_per_hundred\": 188.39, \"people_vaccinated_per_hundred\": 83.88, \"people_fully_vaccinated_per_hundred\": 77.63, \"total_boosters_per_hundred\": 26.88, \"new_vaccinations_smoothed_per_million\": 10273.0, \"new_people_vaccinated_smoothed\": 24491.0, \"new_people_vaccinated_smoothed_per_hundred\": 0.064, \"stringency_index\": 75.46, \"population\": 38067913.0, \"population_density\": 4.037, \"median_age\": 41.4, \"aged_65_older\": 16.984, \"aged_70_older\": 10.797, \"gdp_per_capita\": 44017.591, \"extreme_poverty\": 0.5, \"cardiovasc_death_rate\": 105.599, \"diabetes_prevalence\": 7.37, \"female_smokers\": 12.0, \"male_smokers\": 16.6, \"handwashing_facilities\": null, \"hospital_beds_per_thousand\": 2.5, \"life_expectancy\": 82.43, \"human_development_index\": 0.929, \"excess_mortality_cumulative_absolute\": null, \"excess_mortality_cumulative\": null, \"excess_mortality\": null, \"excess_mortality_cumulative_per_million\": null}, {\"iso_code\": \"CAN\", \"continent\": \"North America\", \"location\": \"Canada\", \"date\": \"2022-01-11T00:00:00\", \"total_cases\": 2615169.0, \"new_cases\": 30892.0, \"new_cases_smoothed\": 39201.143, \"total_deaths\": 30957.0, \"new_deaths\": 96.0, \"new_deaths_smoothed\": 74.429, \"total_cases_per_million\": 68697.462, \"new_cases_per_million\": 811.497, \"new_cases_smoothed_per_million\": 1029.769, \"total_deaths_per_million\": 813.205, \"new_deaths_per_million\": 2.522, \"new_deaths_smoothed_per_million\": 1.955, \"reproduction_rate\": 1.04, \"icu_patients\": 980.0, \"icu_patients_per_million\": 25.743, \"hosp_patients\": 7829.0, \"hosp_patients_per_million\": 205.659, \"weekly_icu_admissions\": null, \"weekly_icu_admissions_per_million\": null, \"weekly_hosp_admissions\": null, \"weekly_hosp_admissions_per_million\": null, \"new_tests\": 115867.0, \"total_tests\": 54405632.0, \"total_tests_per_thousand\": 1429.173, \"new_tests_per_thousand\": 3.044, \"new_tests_smoothed\": 145128.0, \"new_tests_smoothed_per_thousand\": 3.812, \"positive_rate\": 0.2701, \"tests_per_case\": 3.7, \"tests_units\": \"tests performed\", \"total_vaccinations\": 72136498.0, \"people_vaccinated\": 31953959.0, \"people_fully_vaccinated\": 29570238.0, \"total_boosters\": 10612301.0, \"new_vaccinations\": 420329.0, \"new_vaccinations_smoothed\": 367720.0, \"total_vaccinations_per_hundred\": 189.49, \"people_vaccinated_per_hundred\": 83.94, \"people_fully_vaccinated_per_hundred\": 77.68, \"total_boosters_per_hundred\": 27.88, \"new_vaccinations_smoothed_per_million\": 9660.0, \"new_people_vaccinated_smoothed\": 22352.0, \"new_people_vaccinated_smoothed_per_hundred\": 0.059, \"stringency_index\": 75.46, \"population\": 38067913.0, \"population_density\": 4.037, \"median_age\": 41.4, \"aged_65_older\": 16.984, \"aged_70_older\": 10.797, \"gdp_per_capita\": 44017.591, \"extreme_poverty\": 0.5, \"cardiovasc_death_rate\": 105.599, \"diabetes_prevalence\": 7.37, \"female_smokers\": 12.0, \"male_smokers\": 16.6, \"handwashing_facilities\": null, \"hospital_beds_per_thousand\": 2.5, \"life_expectancy\": 82.43, \"human_development_index\": 0.929, \"excess_mortality_cumulative_absolute\": null, \"excess_mortality_cumulative\": null, \"excess_mortality\": null, \"excess_mortality_cumulative_per_million\": null}, {\"iso_code\": \"CAN\", \"continent\": \"North America\", \"location\": \"Canada\", \"date\": \"2022-01-12T00:00:00\", \"total_cases\": 2648208.0, \"new_cases\": 33039.0, \"new_cases_smoothed\": 38441.857, \"total_deaths\": 31081.0, \"new_deaths\": 124.0, \"new_deaths_smoothed\": 79.429, \"total_cases_per_million\": 69565.358, \"new_cases_per_million\": 867.896, \"new_cases_smoothed_per_million\": 1009.823, \"total_deaths_per_million\": 816.462, \"new_deaths_per_million\": 3.257, \"new_deaths_smoothed_per_million\": 2.086, \"reproduction_rate\": 0.99, \"icu_patients\": 1022.0, \"icu_patients_per_million\": 26.847, \"hosp_patients\": 8314.0, \"hosp_patients_per_million\": 218.399, \"weekly_icu_admissions\": null, \"weekly_icu_admissions_per_million\": null, \"weekly_hosp_admissions\": null, \"weekly_hosp_admissions_per_million\": null, \"new_tests\": 167710.0, \"total_tests\": 54573342.0, \"total_tests_per_thousand\": 1433.579, \"new_tests_per_thousand\": 4.406, \"new_tests_smoothed\": 149404.0, \"new_tests_smoothed_per_thousand\": 3.925, \"positive_rate\": 0.2573, \"tests_per_case\": 3.9, \"tests_units\": \"tests performed\", \"total_vaccinations\": 72537602.0, \"people_vaccinated\": 31977786.0, \"people_fully_vaccinated\": 29590157.0, \"total_boosters\": 10969659.0, \"new_vaccinations\": 401104.0, \"new_vaccinations_smoothed\": 369341.0, \"total_vaccinations_per_hundred\": 190.55, \"people_vaccinated_per_hundred\": 84.0, \"people_fully_vaccinated_per_hundred\": 77.73, \"total_boosters_per_hundred\": 28.82, \"new_vaccinations_smoothed_per_million\": 9702.0, \"new_people_vaccinated_smoothed\": 22597.0, \"new_people_vaccinated_smoothed_per_hundred\": 0.059, \"stringency_index\": 75.46, \"population\": 38067913.0, \"population_density\": 4.037, \"median_age\": 41.4, \"aged_65_older\": 16.984, \"aged_70_older\": 10.797, \"gdp_per_capita\": 44017.591, \"extreme_poverty\": 0.5, \"cardiovasc_death_rate\": 105.599, \"diabetes_prevalence\": 7.37, \"female_smokers\": 12.0, \"male_smokers\": 16.6, \"handwashing_facilities\": null, \"hospital_beds_per_thousand\": 2.5, \"life_expectancy\": 82.43, \"human_development_index\": 0.929, \"excess_mortality_cumulative_absolute\": null, \"excess_mortality_cumulative\": null, \"excess_mortality\": null, \"excess_mortality_cumulative_per_million\": null}, {\"iso_code\": \"CAN\", \"continent\": \"North America\", \"location\": \"Canada\", \"date\": \"2022-01-13T00:00:00\", \"total_cases\": 2679219.0, \"new_cases\": 31011.0, \"new_cases_smoothed\": 36918.571, \"total_deaths\": 31191.0, \"new_deaths\": 110.0, \"new_deaths_smoothed\": 86.571, \"total_cases_per_million\": 70379.981, \"new_cases_per_million\": 814.623, \"new_cases_smoothed_per_million\": 969.808, \"total_deaths_per_million\": 819.351, \"new_deaths_per_million\": 2.89, \"new_deaths_smoothed_per_million\": 2.274, \"reproduction_rate\": 0.95, \"icu_patients\": 1027.0, \"icu_patients_per_million\": 26.978, \"hosp_patients\": 8737.0, \"hosp_patients_per_million\": 229.511, \"weekly_icu_admissions\": null, \"weekly_icu_admissions_per_million\": null, \"weekly_hosp_admissions\": null, \"weekly_hosp_admissions_per_million\": null, \"new_tests\": 148730.0, \"total_tests\": 54722072.0, \"total_tests_per_thousand\": 1437.485, \"new_tests_per_thousand\": 3.907, \"new_tests_smoothed\": 149820.0, \"new_tests_smoothed_per_thousand\": 3.936, \"positive_rate\": 0.2464, \"tests_per_case\": 4.1, \"tests_units\": \"tests performed\", \"total_vaccinations\": 72959024.0, \"people_vaccinated\": 32006321.0, \"people_fully_vaccinated\": 29612110.0, \"total_boosters\": 11340593.0, \"new_vaccinations\": 421422.0, \"new_vaccinations_smoothed\": 369777.0, \"total_vaccinations_per_hundred\": 191.65, \"people_vaccinated_per_hundred\": 84.08, \"people_fully_vaccinated_per_hundred\": 77.79, \"total_boosters_per_hundred\": 29.79, \"new_vaccinations_smoothed_per_million\": 9714.0, \"new_people_vaccinated_smoothed\": 23944.0, \"new_people_vaccinated_smoothed_per_hundred\": 0.063, \"stringency_index\": 75.46, \"population\": 38067913.0, \"population_density\": 4.037, \"median_age\": 41.4, \"aged_65_older\": 16.984, \"aged_70_older\": 10.797, \"gdp_per_capita\": 44017.591, \"extreme_poverty\": 0.5, \"cardiovasc_death_rate\": 105.599, \"diabetes_prevalence\": 7.37, \"female_smokers\": 12.0, \"male_smokers\": 16.6, \"handwashing_facilities\": null, \"hospital_beds_per_thousand\": 2.5, \"life_expectancy\": 82.43, \"human_development_index\": 0.929, \"excess_mortality_cumulative_absolute\": null, \"excess_mortality_cumulative\": null, \"excess_mortality\": null, \"excess_mortality_cumulative_per_million\": null}, {\"iso_code\": \"CAN\", \"continent\": \"North America\", \"location\": \"Canada\", \"date\": \"2022-01-14T00:00:00\", \"total_cases\": 2719532.0, \"new_cases\": 40313.0, \"new_cases_smoothed\": 36318.857, \"total_deaths\": 31324.0, \"new_deaths\": 133.0, \"new_deaths_smoothed\": 93.714, \"total_cases_per_million\": 71438.957, \"new_cases_per_million\": 1058.976, \"new_cases_smoothed_per_million\": 954.054, \"total_deaths_per_million\": 822.845, \"new_deaths_per_million\": 3.494, \"new_deaths_smoothed_per_million\": 2.462, \"reproduction_rate\": 0.91, \"icu_patients\": 1053.0, \"icu_patients_per_million\": 27.661, \"hosp_patients\": 9191.0, \"hosp_patients_per_million\": 241.437, \"weekly_icu_admissions\": null, \"weekly_icu_admissions_per_million\": null, \"weekly_hosp_admissions\": null, \"weekly_hosp_admissions_per_million\": null, \"new_tests\": 143464.0, \"total_tests\": 54865536.0, \"total_tests_per_thousand\": 1441.254, \"new_tests_per_thousand\": 3.769, \"new_tests_smoothed\": 148505.0, \"new_tests_smoothed_per_thousand\": 3.901, \"positive_rate\": 0.2446, \"tests_per_case\": 4.1, \"tests_units\": \"tests performed\", \"total_vaccinations\": 73355030.0, \"people_vaccinated\": 32034981.0, \"people_fully_vaccinated\": 29635733.0, \"total_boosters\": 11684316.0, \"new_vaccinations\": 396006.0, \"new_vaccinations_smoothed\": 365254.0, \"total_vaccinations_per_hundred\": 192.7, \"people_vaccinated_per_hundred\": 84.15, \"people_fully_vaccinated_per_hundred\": 77.85, \"total_boosters_per_hundred\": 30.69, \"new_vaccinations_smoothed_per_million\": 9595.0, \"new_people_vaccinated_smoothed\": 23725.0, \"new_people_vaccinated_smoothed_per_hundred\": 0.062, \"stringency_index\": 75.46, \"population\": 38067913.0, \"population_density\": 4.037, \"median_age\": 41.4, \"aged_65_older\": 16.984, \"aged_70_older\": 10.797, \"gdp_per_capita\": 44017.591, \"extreme_poverty\": 0.5, \"cardiovasc_death_rate\": 105.599, \"diabetes_prevalence\": 7.37, \"female_smokers\": 12.0, \"male_smokers\": 16.6, \"handwashing_facilities\": null, \"hospital_beds_per_thousand\": 2.5, \"life_expectancy\": 82.43, \"human_development_index\": 0.929, \"excess_mortality_cumulative_absolute\": null, \"excess_mortality_cumulative\": null, \"excess_mortality\": null, \"excess_mortality_cumulative_per_million\": null}, {\"iso_code\": \"CAN\", \"continent\": \"North America\", \"location\": \"Canada\", \"date\": \"2022-01-15T00:00:00\", \"total_cases\": 2738532.0, \"new_cases\": 19000.0, \"new_cases_smoothed\": 34618.429, \"total_deaths\": 31464.0, \"new_deaths\": 140.0, \"new_deaths_smoothed\": 109.286, \"total_cases_per_million\": 71938.065, \"new_cases_per_million\": 499.108, \"new_cases_smoothed_per_million\": 909.386, \"total_deaths_per_million\": 826.523, \"new_deaths_per_million\": 3.678, \"new_deaths_smoothed_per_million\": 2.871, \"reproduction_rate\": 0.87, \"icu_patients\": 1086.0, \"icu_patients_per_million\": 28.528, \"hosp_patients\": 9463.0, \"hosp_patients_per_million\": 248.582, \"weekly_icu_admissions\": null, \"weekly_icu_admissions_per_million\": null, \"weekly_hosp_admissions\": null, \"weekly_hosp_admissions_per_million\": null, \"new_tests\": 90019.0, \"total_tests\": 54955555.0, \"total_tests_per_thousand\": 1443.619, \"new_tests_per_thousand\": 2.365, \"new_tests_smoothed\": 146993.0, \"new_tests_smoothed_per_thousand\": 3.861, \"positive_rate\": 0.2355, \"tests_per_case\": 4.2, \"tests_units\": \"tests performed\", \"total_vaccinations\": 73642492.0, \"people_vaccinated\": 32056496.0, \"people_fully_vaccinated\": 29655803.0, \"total_boosters\": 11930193.0, \"new_vaccinations\": 287462.0, \"new_vaccinations_smoothed\": 363392.0, \"total_vaccinations_per_hundred\": 193.45, \"people_vaccinated_per_hundred\": 84.21, \"people_fully_vaccinated_per_hundred\": 77.9, \"total_boosters_per_hundred\": 31.34, \"new_vaccinations_smoothed_per_million\": 9546.0, \"new_people_vaccinated_smoothed\": 24293.0, \"new_people_vaccinated_smoothed_per_hundred\": 0.064, \"stringency_index\": 75.46, \"population\": 38067913.0, \"population_density\": 4.037, \"median_age\": 41.4, \"aged_65_older\": 16.984, \"aged_70_older\": 10.797, \"gdp_per_capita\": 44017.591, \"extreme_poverty\": 0.5, \"cardiovasc_death_rate\": 105.599, \"diabetes_prevalence\": 7.37, \"female_smokers\": 12.0, \"male_smokers\": 16.6, \"handwashing_facilities\": null, \"hospital_beds_per_thousand\": 2.5, \"life_expectancy\": 82.43, \"human_development_index\": 0.929, \"excess_mortality_cumulative_absolute\": null, \"excess_mortality_cumulative\": null, \"excess_mortality\": null, \"excess_mortality_cumulative_per_million\": null}]}}, {\"mode\": \"vega-lite\"});\n",
       "</script>"
      ],
      "text/plain": [
       "alt.LayerChart(...)"
      ]
     },
     "execution_count": 5,
     "metadata": {},
     "output_type": "execute_result"
    }
   ],
   "source": [
    "plot_metric(location = \"Canada\", metric=\"positive_rate\", date_from=\"2022-01-01\", date_to=\"2022-01-15\")"
   ]
  }
 ],
 "metadata": {
  "kernelspec": {
   "display_name": "Python 3 (ipykernel)",
   "language": "python",
   "name": "python3"
  },
  "language_info": {
   "codemirror_mode": {
    "name": "ipython",
    "version": 3
   },
   "file_extension": ".py",
   "mimetype": "text/x-python",
   "name": "python",
   "nbconvert_exporter": "python",
   "pygments_lexer": "ipython3",
   "version": "3.9.9"
  }
 },
 "nbformat": 4,
 "nbformat_minor": 4
}
